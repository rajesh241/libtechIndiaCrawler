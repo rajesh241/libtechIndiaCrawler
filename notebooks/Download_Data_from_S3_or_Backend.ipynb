{
 "cells": [
  {
   "cell_type": "markdown",
   "metadata": {},
   "source": [
    "### You would have to set up the Environment "
   ]
  },
  {
   "cell_type": "markdown",
   "metadata": {},
   "source": [
    "### Pull the latest repo"
   ]
  },
  {
   "cell_type": "code",
   "execution_count": null,
   "metadata": {},
   "outputs": [],
   "source": [
    "import os"
   ]
  },
  {
   "cell_type": "markdown",
   "metadata": {},
   "source": [
    "## Copy the following in your Bashrc\n",
    "\n",
    "1. PYTHONPATH=\"${PYTHONPATH}:/home/mango/repo/libtechIndiaCrawler/\"\n",
    "2. LIBTECH_BACKEND_URL='https://backend.libtech.in'\n",
    "3. LIBTECH_API_USERNAME=''\n",
    "4. LIBTECH_API_PASSWORD=\"\"\n",
    "5. NREGA_DATA_DIR=\"/home/mango/repo/libtechIndiaCrawler/libtech_lib/nrega/data\"\n",
    "6. JSON_CONFIG_DIR=\"/home/mango/repo/libtechIndiaCrawler/libtech_lib/json_config\""
   ]
  },
  {
   "cell_type": "code",
   "execution_count": null,
   "metadata": {},
   "outputs": [],
   "source": [
    "from libtech_lib.generic.commons import logger_fetch\n",
    "from libtech_lib.generic.helpers import download_report\n",
    "log_level = 'DEBUG'\n",
    "logger = logger_fetch(log_level)"
   ]
  },
  {
   "cell_type": "code",
   "execution_count": null,
   "metadata": {},
   "outputs": [],
   "source": [
    "logger.info(\"how are you\")"
   ]
  },
  {
   "cell_type": "code",
   "execution_count": 2,
   "metadata": {},
   "outputs": [],
   "source": [
    "all_reports =  ['ap_jobcard_register',\n",
    " 'ap_labour_report_r3_17',\n",
    " 'ap_muster_transactions',\n",
    " 'ap_nefms_report_r14_37',\n",
    " 'ap_not_enrolled_r14_21A',\n",
    " 'ap_rejected_transactions',\n",
    " 'ap_suspended_payments_r14_5',\n",
    " 'block_rejected_stats',\n",
    " 'block_rejected_transactions',\n",
    " 'block_rejected_transactions_v2',\n",
    " 'fto_status_urls',\n",
    " 'jobcard_register',\n",
    " 'jobcard_transactions',\n",
    " 'list1_register',\n",
    " 'muster_list',\n",
    " 'muster_list_v2',\n",
    " 'muster_transactions',\n",
    " 'muster_transactions_v2',\n",
    " 'nic_block_urls',\n",
    " 'nic_r14_5_urls',\n",
    " 'nic_r4_1',\n",
    " 'nic_r4_1_urls',\n",
    " 'nic_stat_urls',\n",
    " 'nic_stats',\n",
    " 'nic_urls',\n",
    " 'NICRejectedTransactionsCoBankURL',\n",
    " 'NICRejectedTransactionsPostURL',\n",
    " 'NICRejectedTransactionsURL',\n",
    " 'nrega_locations',\n",
    " 'work_payment',\n",
    " 'worker_register']"
   ]
  },
  {
   "cell_type": "markdown",
   "metadata": {},
   "source": [
    "### Create Bundle\n",
    "\n",
    "- This code will download the data from the s3/ backend\n",
    "- we can put any number of report types in the array"
   ]
  },
  {
   "cell_type": "markdown",
   "metadata": {},
   "source": [
    "### ITDA"
   ]
  },
  {
   "cell_type": "code",
   "execution_count": null,
   "metadata": {},
   "outputs": [],
   "source": [
    "#location_sample = \"FESSample\"\n",
    "location_sample = \"APITDABlockSample\"\n",
    "\n",
    "#report_types = ['worker_register','block_rejected_transactions','nic_r4_1']"
   ]
  },
  {
   "cell_type": "code",
   "execution_count": null,
   "metadata": {},
   "outputs": [],
   "source": [
    "report_types = ['ap_rejected_transactions']"
   ]
  },
  {
   "cell_type": "code",
   "execution_count": null,
   "metadata": {},
   "outputs": [],
   "source": [
    "from libtech_lib.samples.models import FESSample, LibtechSample, APITDABlockSample"
   ]
  },
  {
   "cell_type": "code",
   "execution_count": null,
   "metadata": {},
   "outputs": [],
   "source": [
    "download_dir = '/home/ranu/crawled_data/libtech_create_bundles/rejected/'\n",
    "zip_file_name = 'ap_rejected_04102020'"
   ]
  },
  {
   "cell_type": "code",
   "execution_count": null,
   "metadata": {},
   "outputs": [],
   "source": [
    "#my_sample = LibtechSample(logger,parent_location_code='0203011',sample_type='block')\n",
    "\n",
    "#my_sample.get_sample_locations(logger)"
   ]
  },
  {
   "cell_type": "code",
   "execution_count": null,
   "metadata": {},
   "outputs": [],
   "source": [
    "my_sample = APITDABlockSample(logger)"
   ]
  },
  {
   "cell_type": "code",
   "execution_count": null,
   "metadata": {
    "scrolled": true
   },
   "outputs": [],
   "source": [
    "my_sample.create_bundle(logger,report_types,download_dir=download_dir,zip_file_name=zip_file_name,only_csv = True)"
   ]
  },
  {
   "cell_type": "markdown",
   "metadata": {},
   "source": [
    "### FES"
   ]
  },
  {
   "cell_type": "code",
   "execution_count": null,
   "metadata": {},
   "outputs": [],
   "source": [
    "location_sample = \"FESSample\"\n",
    "\n",
    "#report_types = ['worker_register','block_rejected_transactions','nic_r4_1']"
   ]
  },
  {
   "cell_type": "code",
   "execution_count": null,
   "metadata": {},
   "outputs": [],
   "source": [
    "report_types = ['block_rejected_stats']"
   ]
  },
  {
   "cell_type": "code",
   "execution_count": null,
   "metadata": {},
   "outputs": [],
   "source": [
    "from libtech_lib.samples.models import FESSample, LibtechSample, APITDABlockSample"
   ]
  },
  {
   "cell_type": "code",
   "execution_count": null,
   "metadata": {},
   "outputs": [],
   "source": [
    "download_dir = '/home/ranu/crawled_data/libtech_create_bundles/rejected/'\n",
    "zip_file_name = 'ap_rejected_04102020'"
   ]
  },
  {
   "cell_type": "code",
   "execution_count": null,
   "metadata": {},
   "outputs": [],
   "source": [
    "#my_sample = LibtechSample(logger,parent_location_code='0203011',sample_type='block')\n",
    "\n",
    "#my_sample.get_sample_locations(logger)"
   ]
  },
  {
   "cell_type": "code",
   "execution_count": null,
   "metadata": {},
   "outputs": [],
   "source": [
    "my_sample = APITDABlockSample(logger)"
   ]
  },
  {
   "cell_type": "code",
   "execution_count": null,
   "metadata": {
    "scrolled": true
   },
   "outputs": [],
   "source": [
    "my_sample.create_bundle(logger,report_types,download_dir=download_dir,zip_file_name=zip_file_name,only_csv = True)"
   ]
  },
  {
   "cell_type": "code",
   "execution_count": null,
   "metadata": {},
   "outputs": [],
   "source": []
  },
  {
   "cell_type": "code",
   "execution_count": null,
   "metadata": {},
   "outputs": [],
   "source": []
  },
  {
   "cell_type": "code",
   "execution_count": null,
   "metadata": {},
   "outputs": [],
   "source": []
  },
  {
   "cell_type": "code",
   "execution_count": null,
   "metadata": {},
   "outputs": [],
   "source": []
  },
  {
   "cell_type": "code",
   "execution_count": null,
   "metadata": {},
   "outputs": [],
   "source": []
  },
  {
   "cell_type": "code",
   "execution_count": null,
   "metadata": {},
   "outputs": [],
   "source": []
  },
  {
   "cell_type": "markdown",
   "metadata": {},
   "source": [
    "### Workspace"
   ]
  },
  {
   "cell_type": "code",
   "execution_count": null,
   "metadata": {},
   "outputs": [],
   "source": [
    "#download_report(logger, location_code, location_type, report_name, force_download=True)"
   ]
  },
  {
   "cell_type": "code",
   "execution_count": null,
   "metadata": {},
   "outputs": [],
   "source": [
    "location_code = '0203011004'\n",
    "location_type = 'panchayat'\n",
    "report_name = 'ap_suspended_payments_r14_5'"
   ]
  },
  {
   "cell_type": "code",
   "execution_count": null,
   "metadata": {},
   "outputs": [],
   "source": []
  },
  {
   "cell_type": "code",
   "execution_count": null,
   "metadata": {
    "scrolled": true
   },
   "outputs": [],
   "source": [
    "download_report(logger, location_code, location_type, report_name, is_nic=False, force_download=True)"
   ]
  },
  {
   "cell_type": "code",
   "execution_count": null,
   "metadata": {},
   "outputs": [],
   "source": [
    "location_code = '0203011'\n",
    "location_type = 'block'\n",
    "report_name = 'ap_rejected_transactions'"
   ]
  },
  {
   "cell_type": "code",
   "execution_count": null,
   "metadata": {},
   "outputs": [],
   "source": [
    "download_report(logger, location_code, location_type, report_name, is_nic=False, force_download=True)"
   ]
  },
  {
   "cell_type": "code",
   "execution_count": null,
   "metadata": {},
   "outputs": [],
   "source": [
    "location_code = '0203'\n",
    "location_type = 'district'\n",
    "report_name = 'get_child_locations'"
   ]
  },
  {
   "cell_type": "code",
   "execution_count": null,
   "metadata": {},
   "outputs": [],
   "source": []
  },
  {
   "cell_type": "code",
   "execution_count": null,
   "metadata": {},
   "outputs": [],
   "source": [
    "result = download_report(logger, location_code, location_type, report_name, is_nic=False, force_download=True)"
   ]
  },
  {
   "cell_type": "code",
   "execution_count": null,
   "metadata": {},
   "outputs": [],
   "source": [
    "len(result)"
   ]
  },
  {
   "cell_type": "markdown",
   "metadata": {},
   "source": [
    "# Comments\n",
    "\n",
    "1. "
   ]
  },
  {
   "cell_type": "markdown",
   "metadata": {},
   "source": [
    "### For fetching all the rejected payments for the whole district"
   ]
  },
  {
   "cell_type": "markdown",
   "metadata": {},
   "source": [
    "sample_name will create a new folder so that it wont overwrite the existing data"
   ]
  },
  {
   "cell_type": "code",
   "execution_count": null,
   "metadata": {},
   "outputs": [],
   "source": [
    "location_type = 'block'\n",
    "report_name = 'ap_rejected_transactions'\n",
    "for blockcode in result:\n",
    "    download_report(logger, blockcode, location_type, report_name, is_nic=False, force_download=True,sample_name = 'ranu')"
   ]
  },
  {
   "cell_type": "code",
   "execution_count": null,
   "metadata": {},
   "outputs": [],
   "source": [
    "location_code = '3401020'\n",
    "location_type = 'block'\n",
    "report_name = 'nic_stats'"
   ]
  },
  {
   "cell_type": "code",
   "execution_count": null,
   "metadata": {},
   "outputs": [],
   "source": [
    "download_report(logger, location_code, location_type, report_name, is_nic=True, force_download=True)"
   ]
  },
  {
   "cell_type": "code",
   "execution_count": null,
   "metadata": {},
   "outputs": [],
   "source": []
  }
 ],
 "metadata": {
  "kernelspec": {
   "display_name": "Python 3",
   "language": "python",
   "name": "python3"
  },
  "language_info": {
   "codemirror_mode": {
    "name": "ipython",
    "version": 3
   },
   "file_extension": ".py",
   "mimetype": "text/x-python",
   "name": "python",
   "nbconvert_exporter": "python",
   "pygments_lexer": "ipython3",
   "version": "3.8.2"
  }
 },
 "nbformat": 4,
 "nbformat_minor": 4
}
