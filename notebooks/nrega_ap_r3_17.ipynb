{
 "cells": [
  {
   "cell_type": "code",
   "execution_count": 1,
   "metadata": {},
   "outputs": [],
   "source": [
    "import requests"
   ]
  },
  {
   "cell_type": "code",
   "execution_count": 2,
   "metadata": {},
   "outputs": [],
   "source": [
    "import pandas as pd"
   ]
  },
  {
   "cell_type": "code",
   "execution_count": 3,
   "metadata": {},
   "outputs": [
    {
     "name": "stdout",
     "output_type": "stream",
     "text": [
      "Fetching URL[http://www.nrega.ap.gov.in/Nregs/] for cookies\n"
     ]
    }
   ],
   "source": [
    "url = 'http://www.nrega.ap.gov.in/Nregs/'\n",
    "print('Fetching URL[%s] for cookies' % url)\n",
    "with requests.Session() as session:\n",
    "    response = session.get(url)\n",
    "\n",
    "    cookies = session.cookies\n"
   ]
  },
  {
   "cell_type": "code",
   "execution_count": null,
   "metadata": {},
   "outputs": [],
   "source": [
    "if not cookies:\n",
    "    cookies = {\n",
    "        'JSESSIONID': '46DAD609B3B721E40E9BE6A85D742704.mgnregsapps1',\n",
    "        'S_MODE': '2',\n",
    "    }\n",
    "\n",
    "headers = {\n",
    "    'User-Agent': 'Mozilla/5.0 (X11; Ubuntu; Linux x86_64; rv:77.0) Gecko/20100101 Firefox/77.0',\n",
    "    'Accept': 'text/html,application/xhtml+xml,application/xml;q=0.9,image/webp,*/*;q=0.8',\n",
    "    'Accept-Language': 'en-GB,en;q=0.5',\n",
    "    'Connection': 'keep-alive',\n",
    "    'Upgrade-Insecure-Requests': '1',\n",
    "    'Cache-Control': 'max-age=0',\n",
    "}\n",
    "\n",
    "params = (\n",
    "    ('requestType', 'SmartCardreport_engRH'),\n",
    "    ('actionVal', 'NEFMS'),\n",
    "    ('id', '03'),\n",
    "    ('type', ''),\n",
    "    ('Date', '-1'),\n",
    "    ('File', ''),\n",
    "    ('Agency', ''),\n",
    "    ('listType', ''),\n",
    "    ('yearMonth', '-1'),\n",
    "    ('ReportType', ''),\n",
    "    ('flag', '-1'),\n",
    "    ('Rtype', '-1'),\n",
    "    ('Date1', '-1'),\n",
    "    ('wtype', '-1'),\n",
    "    ('ytype', '-1'),\n",
    "    ('Date2', '-1'),\n",
    "    ('ltype', '-1'),\n",
    "    ('year', ''),\n",
    "    ('program', ''),\n",
    "    ('fileName', '03'),\n",
    "    ('stype', '-1'),\n",
    "    ('ptype', '-1'),\n",
    "    ('lltype', 'ITDA'),\n",
    ")\n",
    "\n",
    "response = session.get('https://www.nrega.ap.gov.in/Nregs/FrontServlet', headers=headers, params=params, cookies=cookies)\n",
    "\n",
    "#NB. Original query string below. It seems impossible to parse and\n",
    "#reproduce query strings 100% accurately so the one below is given\n",
    "#in case the reproduced version is not \"correct\".\n",
    "# response = requests.get('http://www.nrega.ap.gov.in/Nregs/FrontServlet?requestType=SmartCardreport_engRH&actionVal=NEFMS&id=03&type=&Date=-1&File=&Agency=&listType=&yearMonth=-1&ReportType=&flag=-1&Rtype=-1&Date1=-1&wtype=-1&ytype=-1&Date2=-1&ltype=-1&year=&program=&fileName=03&stype=-1&ptype=-1&lltype=ITDA', headers=headers, cookies=cookies)\n"
   ]
  },
  {
   "cell_type": "code",
   "execution_count": null,
   "metadata": {},
   "outputs": [],
   "source": [
    "df = pd.read_html(response.content)[0]\n",
    "df"
   ]
  },
  {
   "cell_type": "markdown",
   "metadata": {},
   "source": [
    "## Direct Download using - \n",
    "\n",
    "http://www.nrega.ap.gov.in/Nregs/FrontServlet?requestType=PRReportsRH&actionVal=DailyLabour&type=ALLGP&date=20/06/2020"
   ]
  },
  {
   "cell_type": "code",
   "execution_count": 5,
   "metadata": {},
   "outputs": [],
   "source": [
    "# The below code is not working for some reason - need to revisit. Check the next cell - Mynk\n",
    "\n",
    "import requests\n",
    "url = 'http://www.nrega.ap.gov.in/Nregs/FrontServlet?requestType=PRReportsRH&actionVal=DailyLabour&type=ALLGP&date=20/06/2020'\n",
    "response = requests.get(url)\n",
    "with open('/tmp/test.xls', 'wb') as output:\n",
    "    output.write(response.content)"
   ]
  },
  {
   "cell_type": "code",
   "execution_count": 8,
   "metadata": {},
   "outputs": [],
   "source": [
    "import requests\n",
    "\n",
    "cookies = {\n",
    "    'JSESSIONID': '16BE556A63D4AA3DEFC357CA09A8C784.mgnregsapps1',\n",
    "    '_ga': 'GA1.3.1845843488.1591238610',\n",
    "    'S_MODE': '2',\n",
    "}\n",
    "\n",
    "headers = {\n",
    "    'Connection': 'keep-alive',\n",
    "    'Upgrade-Insecure-Requests': '1',\n",
    "    'User-Agent': 'Mozilla/5.0 (X11; Linux x86_64) AppleWebKit/537.36 (KHTML, like Gecko) Chrome/81.0.4044.142 Safari/537.36',\n",
    "    'Accept': 'text/html,application/xhtml+xml,application/xml;q=0.9,image/webp,image/apng,*/*;q=0.8,application/signed-exchange;v=b3;q=0.9',\n",
    "    'Referer': 'http://www.nrega.ap.gov.in/Nregs/FrontServlet?requestType=PRReportsRH&actionVal=DailyLabour&type=-1&date=02/07/2020',\n",
    "    'Accept-Language': 'en-US,en;q=0.9',\n",
    "}\n",
    "\n",
    "params = (\n",
    "    ('requestType', 'PRReportsRH'),\n",
    "    ('actionVal', 'DailyLabour'),\n",
    "    ('type', 'ALLGP'),\n",
    "    ('date', '02/07/2020'),\n",
    ")\n",
    "\n",
    "response = requests.get('http://www.nrega.ap.gov.in/Nregs/FrontServlet', headers=headers, params=params, cookies=cookies, verify=False)\n",
    "\n",
    "#NB. Original query string below. It seems impossible to parse and\n",
    "#reproduce query strings 100% accurately so the one below is given\n",
    "#in case the reproduced version is not \"correct\".\n",
    "# response = requests.get('http://www.nrega.ap.gov.in/Nregs/FrontServlet?requestType=PRReportsRH&actionVal=DailyLabour&type=ALLGP&date=02/07/2020', headers=headers, cookies=cookies, verify=False)\n",
    "\n",
    "with open('/tmp/test.xlsx', 'wb') as output:\n",
    "    output.write(response.content)"
   ]
  },
  {
   "cell_type": "code",
   "execution_count": null,
   "metadata": {},
   "outputs": [],
   "source": []
  }
 ],
 "metadata": {
  "kernelspec": {
   "display_name": ".venv",
   "language": "python",
   "name": ".venv"
  },
  "language_info": {
   "codemirror_mode": {
    "name": "ipython",
    "version": 3
   },
   "file_extension": ".py",
   "mimetype": "text/x-python",
   "name": "python",
   "nbconvert_exporter": "python",
   "pygments_lexer": "ipython3",
   "version": "3.7.6"
  }
 },
 "nbformat": 4,
 "nbformat_minor": 2
}
