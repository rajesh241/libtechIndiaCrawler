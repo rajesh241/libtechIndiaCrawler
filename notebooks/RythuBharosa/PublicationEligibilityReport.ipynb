{
 "cells": [
  {
   "cell_type": "code",
   "execution_count": null,
   "metadata": {},
   "outputs": [],
   "source": [
    "import os\n",
    "import time\n",
    "import pandas as pd\n",
    "from selenium.webdriver.common.by import By\n",
    "from selenium.webdriver.support import expected_conditions as EC\n",
    "from selenium.webdriver.support.ui import Select\n",
    "from selenium.webdriver.support.ui import WebDriverWait\n",
    "from slugify import slugify"
   ]
  },
  {
   "cell_type": "code",
   "execution_count": null,
   "metadata": {},
   "outputs": [],
   "source": [
    "from libtech_lib.generic.commons import logger_fetch\n",
    "from libtech_lib.wrappers.sn import driverInitialize, driverFinalize\n",
    "from libtech_lib.generic.aws import get_aws_parquet, upload_s3\n",
    "from libtech_lib.generic.html_functions import get_dataframe_from_html\n",
    "from libtech_lib.rayatubarosa.models import RBCrawler, RBLocation\n",
    "from libtech_lib.generic.api_interface import api_get_tag_id\n"
   ]
  },
  {
   "cell_type": "code",
   "execution_count": null,
   "metadata": {},
   "outputs": [],
   "source": [
    "logger = logger_fetch()"
   ]
  },
  {
   "cell_type": "code",
   "execution_count": null,
   "metadata": {},
   "outputs": [],
   "source": [
    "class Crawler():\n",
    "    \"\"\"Selenium crawler class for crawling ryatu barosa website\"\"\"\n",
    "    def __init__(self):\n",
    "        self.driver = driverInitialize(timeout=3)\n",
    "        self.block_name = slugify('G. Madugula')\n",
    "        self.data_dir = '../../Data/RB/PublicationEligibilityReport'\n",
    "        if not os.path.exists(self.data_dir):\n",
    "            os.makedirs(self.data_dir)\n",
    "\n",
    "    def teardown_method(self):\n",
    "        \"\"\"To tear down the class\"\"\"\n",
    "        driverFinalize(self.driver)\n",
    "\n",
    "    def wait_for_window(self, timeout=2):\n",
    "        \"\"\"This function will wait for the new window to open based on timeout\n",
    "        and return the new window handle\"\"\"\n",
    "        time.sleep(round(timeout / 1000))\n",
    "        wh_now = self.driver.window_handles\n",
    "        wh_then = self.vars[\"window_handles\"]\n",
    "        if len(wh_now) > len(wh_then):\n",
    "            return set(wh_now).difference(set(wh_then)).pop()\n",
    "        return None\n",
    "\n",
    "    def login_portal(self, logger):\n",
    "        \"\"\"this function will log in to the website\"\"\"\n",
    "        url = 'https://ysrrythubharosa.ap.gov.in/RBApp/RB/Login'\n",
    "        logger.info('Fetching URL[%s]' % url)\n",
    "        self.driver.get(url)\n",
    "        time.sleep(3)\n",
    "\n",
    "        user = ''\n",
    "        elem = self.driver.find_element_by_xpath('//input[@type=\"text\"]')\n",
    "        logger.info('Entering User[%s]' % user)\n",
    "        elem.send_keys(user)\n",
    "\n",
    "        password = ''\n",
    "        elem = self.driver.find_element_by_xpath('//input[@type=\"password\"]')\n",
    "        logger.info('Entering Password[%s]' % password)\n",
    "        elem.send_keys(password)\n",
    "\n",
    "\n",
    "        login_button = '(//button[@type=\"button\"])[2]'\n",
    "\n",
    "        elem = self.driver.find_element_by_xpath(login_button)\n",
    "        logger.info('Clicking Login Button')\n",
    "        #time.sleep(15)\n",
    "        #elem.click()\n",
    "        #input()\n",
    "\n",
    "    def print_current_window_handles(self, logger, event_name=None):\n",
    "        \"\"\"Debug function to print all the window handles\"\"\"\n",
    "        handles = self.driver.window_handles\n",
    "        logger.info(f\"Printing current window handles after {event_name}\")\n",
    "        for index, handle in enumerate(handles):\n",
    "            logger.info(f\"{index}-{handle}\")\n",
    "\n",
    "    def fetch_eligibility_report(self, logger):\n",
    "        \"\"\"This function will download the Publication Eligibility Report\"\"\"\n",
    "\n",
    "        # First we will Login in to the rythu bharosa website\n",
    "        self.login_portal(logger)\n",
    "        \n",
    "        #Go to the \n",
    "        # url = 'https://ysrrythubharosa.ap.gov.in/RBApp/Reports/PublicationEligibilityReport'\n",
    "        # logger.info('Fetching URL[%s]' % url)\n",
    "        # self.driver.get(url)\n",
    "        return self.driver\n",
    "        \n"
   ]
  },
  {
   "cell_type": "code",
   "execution_count": null,
   "metadata": {},
   "outputs": [],
   "source": [
    "self = my_crawler = Crawler()"
   ]
  },
  {
   "cell_type": "code",
   "execution_count": null,
   "metadata": {},
   "outputs": [],
   "source": [
    "driver = my_crawler.fetch_eligibility_report(logger)"
   ]
  },
  {
   "cell_type": "code",
   "execution_count": null,
   "metadata": {},
   "outputs": [],
   "source": [
    "url = 'https://ysrrythubharosa.ap.gov.in/RBApp/Reports/PublicationEligibilityReport'\n",
    "driver.get(url)"
   ]
  },
  {
   "cell_type": "code",
   "execution_count": null,
   "metadata": {},
   "outputs": [],
   "source": [
    "try:\n",
    "    WebDriverWait(driver, 2).until(EC.element_to_be_clickable((By.XPATH, \"//button[@class='swal2-confirm swal2-styled']\"))).click()\n",
    "    logger.info(f'Skipping')\n",
    "except Exception as e:\n",
    "    pass\n"
   ]
  },
  {
   "cell_type": "markdown",
   "metadata": {},
   "source": [
    "### Fetch the village names and codes and for each of them fetch the report"
   ]
  },
  {
   "cell_type": "code",
   "execution_count": null,
   "metadata": {},
   "outputs": [],
   "source": [
    "village_select = Select(driver.find_element_by_xpath('/html/body/section/div/div/div[2]/div/div[2]/div[1]/div[3]/div/select'))"
   ]
  },
  {
   "cell_type": "code",
   "execution_count": null,
   "metadata": {},
   "outputs": [],
   "source": [
    "villageDFs = []\n",
    "data_dir = self.data_dir\n",
    "block_name = self.block_name\n",
    "\n",
    "for i, o in enumerate(village_select.options):\n",
    "    print(o)\n",
    "    if not i:\n",
    "        continue\n",
    "    village_code = o.get_attribute('value')\n",
    "    village_name = o.text\n",
    "    logger.info(f'Selecting Village[{i}] = [{village_code},{slugify(village_name)}]')\n",
    "    try:\n",
    "        village_select.select_by_value(village_code)\n",
    "        time.sleep(3)\n",
    "        land_select = Select(driver.find_element_by_xpath('/html/body/section/div/div/div[2]/div/div[2]/div[2]/div[2]/div/select'))\n",
    "    except Exception as e:\n",
    "        logger.error(f'Exception during select ofVillage[{village_code},{slugify(village_name)}] - EXCEPT[{type(e)}, {e}]')\n",
    "        logger.warning(f'Skipping Village[{village_code}]')\n",
    "\n",
    "    for j, o in enumerate(land_select.options):\n",
    "        code = o.get_attribute('value')\n",
    "        land_type = o.text\n",
    "        print(code)\n",
    "        if not j:\n",
    "            continue\n",
    "        try:\n",
    "            land_select.select_by_value(o.get_attribute('value'))\n",
    "            status_select = Select(driver.find_element_by_xpath('/html/body/section/div/div/div[2]/div/div[2]/div[2]/div[3]/div/select'))\n",
    "        except Exception as e:\n",
    "            logger.error(f'Exception during select land type[{code}] - EXCEPT[{type(e)}, {e}]')\n",
    "\n",
    "        for k, o in enumerate(status_select.options):\n",
    "            if not k:\n",
    "                continue\n",
    "            code = o.get_attribute('value')\n",
    "            status = o.text\n",
    "            print(code)\n",
    "            filename = f'''{data_dir}/{block_name}_{village_name.replace(' ', '-')}_{village_code}_{land_type}_{status}.csv'''\n",
    "            print(f'Trying download for {filename}...')\n",
    "            if os.path.exists(filename):\n",
    "                print(f'Already downloaded file [{filename}]. Reading...')\n",
    "                df = pd.read_csv(filename)\n",
    "                villageDFs.append(df)\n",
    "                continue # FIXME\n",
    "            try:\n",
    "                status_select.select_by_value(o.get_attribute('value'))\n",
    "                submit_button = driver.find_element_by_xpath('/html/body/section/div/div/div[2]/div/div[2]/div[3]/div/input')\n",
    "                submit_button.click()\n",
    "            except Exception as e:\n",
    "                logger.error(f'Exception during select land type[{code}] - EXCEPT[{type(e)}, {e}]')\n",
    "\n",
    "            try:\n",
    "                alert_xpath = \"//button[@class='swal2-confirm swal2-styled']\"\n",
    "                WebDriverWait(driver, 2).until(EC.element_to_be_clickable((By.XPATH, alert_xpath)))\n",
    "                elem = driver.find_element_by_xpath(alert_xpath)\n",
    "                if elem.text == 'Session Expired !!!':\n",
    "                    logger.critical('Session Expired !!!')\n",
    "                    exit(0)\n",
    "                else:\n",
    "                    elem.click()\n",
    "                logger.info(f'Skipping for of Village[{village_code}, {village_name}]')\n",
    "                continue\n",
    "            except Exception as e:\n",
    "                logger.info(f'Moving ahead with Village[{village_code},{slugify(village_name)}] - EXCEPT[{type(e)}, {e}]')\n",
    "\n",
    "            while True:\n",
    "                try:\n",
    "                    WebDriverWait(driver, 3).until(EC.element_to_be_clickable((By.XPATH, \"//input[@class='btn btn-primary']\")))\n",
    "                    logger.info(f'Found Data')\n",
    "                    myhtml = driver.page_source\n",
    "                except Exception as e:\n",
    "                    logger.error(f'When reading HTML source land_type[{land_type}] of Village[{village_code}, {(village_code)}] - EXCEPT[{type(e)}, {e}]')\n",
    "\n",
    "                df = pd.read_html(myhtml, attrs = {'id': 'tblapproval'})[0]\n",
    "                if status == 'Eligible':\n",
    "                    df['Rejected Reason'] = ''\n",
    "                df['land_type'] = land_type\n",
    "                df['eligibility_status'] = status\n",
    "                df['village_name_tel'] = village_name\n",
    "                df['village_code'] = village_code\n",
    "                df['block_name'] = block_name\n",
    "                df.to_csv(filename, index=False)\n",
    "                logger.info(f'Writing [{filename}]')\n",
    "                villageDFs.append(df)\n",
    "                #logger.info(f'Adding the table for village[{village_code}] and type[{land_type}] and eligibility status[{status}]')\n",
    "                try:\n",
    "                    elem = WebDriverWait(driver, 3).until(EC.element_to_be_clickable((By.LINK_TEXT, '›')))\n",
    "                    parent = elem.find_element_by_xpath('..')\n",
    "                    logger.info(f'parent[{parent.get_attribute(\"class\")}] elem[{elem.get_attribute(\"class\")}]')\n",
    "                    if 'disabled' in parent.get_attribute(\"class\"):\n",
    "                        logger.info(f'Disabled so end here!')\n",
    "                        break\n",
    "                    else:\n",
    "                        elem.click()\n",
    "                        time.sleep(5)\n",
    "                        continue\n",
    "                except Exception as e:\n",
    "                    logger.info(f'No pagination here!')\n",
    "                    break\n",
    "\n",
    "            #break   #FIXME\n",
    "        #break    #FIXME\n",
    "    #break   #FIXME\n",
    "\n"
   ]
  },
  {
   "cell_type": "code",
   "execution_count": null,
   "metadata": {},
   "outputs": [],
   "source": [
    "df = pd.concat(villageDFs).reset_index(drop=True)"
   ]
  },
  {
   "cell_type": "code",
   "execution_count": null,
   "metadata": {},
   "outputs": [],
   "source": [
    "df['sno'] = df.index + 1    # FIXME"
   ]
  },
  {
   "cell_type": "code",
   "execution_count": null,
   "metadata": {},
   "outputs": [],
   "source": [
    "df.to_csv(f'{data_dir}/all.csv', index=False)"
   ]
  },
  {
   "cell_type": "code",
   "execution_count": null,
   "metadata": {},
   "outputs": [],
   "source": []
  }
 ],
 "metadata": {
  "kernelspec": {
   "display_name": ".venv",
   "language": "python",
   "name": ".venv"
  },
  "language_info": {
   "codemirror_mode": {
    "name": "ipython",
    "version": 3
   },
   "file_extension": ".py",
   "mimetype": "text/x-python",
   "name": "python",
   "nbconvert_exporter": "python",
   "pygments_lexer": "ipython3",
   "version": "3.7.6"
  }
 },
 "nbformat": 4,
 "nbformat_minor": 4
}
