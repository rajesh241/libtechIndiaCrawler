{
 "cells": [
  {
   "cell_type": "code",
   "execution_count": null,
   "metadata": {},
   "outputs": [],
   "source": [
    "import json\n",
    "import requests"
   ]
  },
  {
   "cell_type": "code",
   "execution_count": null,
   "metadata": {},
   "outputs": [],
   "source": [
    "LocationAPIEndPoint = 'https://backend.libtech.in/api/public/location/'\n",
    "ReportAPIEndPoint = 'https://backend.libtech.in/api/public/report/'"
   ]
  },
  {
   "cell_type": "code",
   "execution_count": null,
   "metadata": {},
   "outputs": [],
   "source": [
    "NIC_SAMPLE = ['0210002', # Andhra Pradesh-Chittoor-Thamballapalle\n",
    "                                     '0210001', # Andhra Pradesh-Chittoor-Peddamandyam\n",
    "                                     '0212040', # Andhra Pradesh-Anantapur-Nambulipulikunta\n",
    "                                      '2724007', # Rajasthan-Bhilwara-Sahada\n",
    "                                      '2724006', # Rajasthan-Bhilwara-Raipur\n",
    "                                      '2724010', # Rajasthan-Bhilwara-Jahajpur\n",
    "                                      '2724003', # Rajasthan-Bhilwara-Shahpura\n",
    "                                      '2724009', # Rajasthan-Bhilwara-Kotri\n",
    "                                      '2724005', # Rajasthan-Bhilwara-Mandal\n",
    "                                      '2724001', # Rajasthan-Bhilwara-Asind\n",
    "                                      '2724011', # Rajasthan-Bhilwara-Mandalagarh\n",
    "                                      '2726003', # Rajasthan-Udaipur-Gogunda\n",
    "                                      '2729012', # Rajasthan-Pratapgarh-Pratapgarh\n",
    "                                      '2728002', # Rajasthan-Pratapgarh-Peepalakhunt\n",
    "                                      '2729003', # Rajasthan-Chittorgarh-Begun\n",
    "                                      '2725002', # Rajasthan-Rajsamand-Devgarh\n",
    "                                      '2411003', # Odisha-Koraput-Pottangi\n",
    "                                      '2411002', # Odisha-Koraput-Semiliguda\n",
    "                                      '2421003', # Odisha-Angul-Athmallik\n",
    "                                      '2407005', # Odisha-Dhenkanal-Kankada Had\n",
    "                                      '2403007', # Odisha-Kendujhar-Bansapal\n",
    "                                      '1114006', # Gujarat-Mahisagar-Santrampur\n",
    "                                      '1114013', # Gujarat-Mahisagar-Kadana\n",
    "                                      '1528001', # Karnataka-Chikkaballapura-Bagepalli\n",
    "                                      '1528006', # Karnataka-Chikkaballapura-Sidlaghatta\n",
    "                                      '1825008' # Maharashtra-Yavatmal-Ghatanji\n",
    "                                     ]"
   ]
  },
  {
   "cell_type": "code",
   "execution_count": null,
   "metadata": {},
   "outputs": [],
   "source": [
    "report_types = [\"jobcard_register\", \"worker_register\", \"nic_stats\", \"block_rejected_transactions\", \"nic_r4_1\"]"
   ]
  },
  {
   "cell_type": "markdown",
   "metadata": {},
   "source": [
    "# SAMPLE API "
   ]
  },
  {
   "cell_type": "markdown",
   "metadata": {},
   "source": [
    "## Get all panchayat give block Code "
   ]
  },
  {
   "cell_type": "code",
   "execution_count": null,
   "metadata": {},
   "outputs": [],
   "source": [
    "block_code = '2729003'\n",
    "location_type = 'panchayat'\n",
    "url = f\"{LocationAPIEndPoint}?block_code={block_code}&location_type={location_type}\"\n",
    "r = requests.get(url)\n",
    "print(r.status_code)\n",
    "print(r.content)"
   ]
  },
  {
   "cell_type": "markdown",
   "metadata": {},
   "source": [
    "## Get Report status given code and report_type"
   ]
  },
  {
   "cell_type": "code",
   "execution_count": null,
   "metadata": {},
   "outputs": [],
   "source": [
    "location_code = '2729003'\n",
    "report_type = 'block_rejected_transactions'\n",
    "url = f\"{ReportAPIEndPoint}?location__code={location_code}&report_type={report_type}\"\n",
    "r = requests.get(url)\n",
    "print(r.status_code)\n",
    "print(r.content)"
   ]
  },
  {
   "cell_type": "code",
   "execution_count": null,
   "metadata": {},
   "outputs": [],
   "source": []
  }
 ],
 "metadata": {
  "kernelspec": {
   "display_name": "Python 3",
   "language": "python",
   "name": "python3"
  },
  "language_info": {
   "codemirror_mode": {
    "name": "ipython",
    "version": 3
   },
   "file_extension": ".py",
   "mimetype": "text/x-python",
   "name": "python",
   "nbconvert_exporter": "python",
   "pygments_lexer": "ipython3",
   "version": "3.7.7"
  }
 },
 "nbformat": 4,
 "nbformat_minor": 4
}
