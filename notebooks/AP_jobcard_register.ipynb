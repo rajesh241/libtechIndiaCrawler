{
 "cells": [
  {
   "cell_type": "markdown",
   "metadata": {},
   "source": [
    "### You would have to set up the Environment "
   ]
  },
  {
   "cell_type": "code",
   "execution_count": null,
   "metadata": {},
   "outputs": [],
   "source": [
    "import os"
   ]
  },
  {
   "cell_type": "markdown",
   "metadata": {},
   "source": [
    "## Copy the following in your Bashrc\n",
    "\n",
    "### PYTHONPATH=\"${PYTHONPATH}:/home/mango/repo/libtechIndiaCrawler/\"\n",
    "### LIBTECH_BACKEND_URL='https://backend.libtech.in'\n",
    "### LIBTECH_API_USERNAME=''\n",
    "### LIBTECH_API_PASSWORD=\"\"\n",
    "### NREGA_DATA_DIR=\"/home/mango/repo/libtechIndiaCrawler/libtech_lib/nrega/data\"\n",
    "### JSON_CONFIG_DIR=\"/home/mango/repo/libtechIndiaCrawler/libtech_lib/json_config\""
   ]
  },
  {
   "cell_type": "code",
   "execution_count": null,
   "metadata": {},
   "outputs": [],
   "source": [
    "from libtech_lib.generic.commons import logger_fetch\n",
    "from libtech_lib.generic.helpers import download_report\n",
    "from libtech_lib.samples import models as samplemodels\n",
    "log_level = 'DEBUG'\n",
    "logger = logger_fetch(log_level)"
   ]
  },
  {
   "cell_type": "code",
   "execution_count": null,
   "metadata": {},
   "outputs": [],
   "source": [
    "logger.info(\"how are you\")"
   ]
  },
  {
   "cell_type": "code",
   "execution_count": null,
   "metadata": {},
   "outputs": [],
   "source": [
    "# How to fetch the block_codes\n",
    "\n",
    "location_code = '0203'\n",
    "location_type = 'district'\n",
    "report_name = 'get_child_locations'\n",
    "\n",
    "block_codes = download_report(logger, location_code, location_type, report_name, is_nic=True, force_download=True)"
   ]
  },
  {
   "cell_type": "code",
   "execution_count": null,
   "metadata": {},
   "outputs": [],
   "source": [
    "# How to fetch panchayat_codes\n",
    "\n",
    "location_code = '0203011'\n",
    "location_type = 'block'\n",
    "report_name = 'get_child_locations'\n",
    "\n",
    "panchayat_codes = download_report(logger, location_code, location_type, report_name, is_nic=True, force_download=True)\n",
    "panchayat_codes"
   ]
  },
  {
   "cell_type": "code",
   "execution_count": null,
   "metadata": {},
   "outputs": [],
   "source": [
    "# Example for panchayat / code crawling\n",
    "\n",
    "location_code = '0203011004'\n",
    "location_type = 'panchayat'\n",
    "report_name = 'ap_jobcard_register'\n",
    "\n",
    "download_report(logger, location_code, location_type, report_name, is_nic=False, force_download=True)"
   ]
  },
  {
   "cell_type": "code",
   "execution_count": null,
   "metadata": {},
   "outputs": [],
   "source": [
    "# main()\n",
    "\n",
    "block_codes = ['0203006','0203005','0203012','0203004','0203011','0203013','0203003','0203014','0203001','0203010','0203002']\n",
    "for block_code in block_codes:\n",
    "    location_code = block_code\n",
    "    location_type = 'block'\n",
    "    report_name = 'get_child_locations'\n",
    "\n",
    "    panchayat_codes = download_report(logger, location_code, location_type, report_name, is_nic=True, force_download=True)\n",
    "    for panchayat_code in panchayat_codes:\n",
    "        location_code = panchayat_code\n",
    "        location_type = 'panchayat'\n",
    "        report_name = 'ap_jobcard_register'\n",
    "\n",
    "        download_report(logger, location_code, location_type, report_name, is_nic=False, force_download=True)\n",
    "        break\n",
    "    "
   ]
  },
  {
   "cell_type": "code",
   "execution_count": null,
   "metadata": {},
   "outputs": [],
   "source": [
    "# How to populate Task Queue\n",
    "\n",
    "location_sample = 'APITDABlockSample' # args.get(\"location_sample\", None)\n",
    "my_sample = getattr(samplemodels, location_sample)(logger)\n",
    "report_type = 'ap_jobcard_register'\n",
    "\n",
    "my_sample.populate_queue(logger, report_type)"
   ]
  },
  {
   "cell_type": "code",
   "execution_count": null,
   "metadata": {},
   "outputs": [],
   "source": [
    "# Example for getting of existing reports (already downloaded)\n",
    "\n",
    "location_sample = 'APITDABlockSample' # args.get(\"location_sample\", None)\n",
    "my_sample = getattr(samplemodels, location_sample)(logger)\n",
    "report_types = [ 'ap_jobcard_register' ]  # [\"jobcard_register\", \"nic_stats\"]\n",
    "zip_file_name = \"../Data/Chakri_25JUL20_JCReport\"\n",
    "download_dir  = \"../Data/jobcard_register\"\n",
    "my_sample.create_bundle(logger, report_types, download_dir=download_dir, zip_file_name=zip_file_name, save_to_s3=True)"
   ]
  }
 ],
 "metadata": {
  "kernelspec": {
   "display_name": "Python 3",
   "language": "python",
   "name": "python3"
  },
  "language_info": {
   "codemirror_mode": {
    "name": "ipython",
    "version": 3
   },
   "file_extension": ".py",
   "mimetype": "text/x-python",
   "name": "python",
   "nbconvert_exporter": "python",
   "pygments_lexer": "ipython3",
   "version": "3.8.2"
  }
 },
 "nbformat": 4,
 "nbformat_minor": 4
}
