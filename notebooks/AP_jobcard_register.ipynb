{
 "cells": [
  {
   "cell_type": "markdown",
   "metadata": {},
   "source": [
    "### You would have to set up the Environment "
   ]
  },
  {
   "cell_type": "code",
   "execution_count": 1,
   "metadata": {},
   "outputs": [],
   "source": [
    "import os"
   ]
  },
  {
   "cell_type": "markdown",
   "metadata": {},
   "source": [
    "## Copy the following in your Bashrc\n",
    "\n",
    "### PYTHONPATH=\"${PYTHONPATH}:/home/mango/repo/libtechIndiaCrawler/\"\n",
    "### LIBTECH_BACKEND_URL='https://backend.libtech.in'\n",
    "### LIBTECH_API_USERNAME=''\n",
    "### LIBTECH_API_PASSWORD=\"\"\n",
    "### NREGA_DATA_DIR=\"/home/mango/repo/libtechIndiaCrawler/libtech_lib/nrega/data\"\n",
    "### JSON_CONFIG_DIR=\"/home/mango/repo/libtechIndiaCrawler/libtech_lib/json_config\""
   ]
  },
  {
   "cell_type": "code",
   "execution_count": 2,
   "metadata": {},
   "outputs": [],
   "source": [
    "from libtech_lib.generic.commons import logger_fetch\n",
    "from libtech_lib.generic.helpers import download_report\n",
    "from libtech_lib.samples import models as samplemodels\n",
    "log_level = 'DEBUG'\n",
    "logger = logger_fetch(log_level)"
   ]
  },
  {
   "cell_type": "code",
   "execution_count": 3,
   "metadata": {},
   "outputs": [
    {
     "name": "stderr",
     "output_type": "stream",
     "text": [
      "2020-07-19 19:51:08,702:[libtech_lib.generic.commons|<ipython-input-3-a3cbbaf3c0fa>|<module>|1|INFO]: how are you\n"
     ]
    }
   ],
   "source": [
    "logger.info(\"how are you\")"
   ]
  },
  {
   "cell_type": "code",
   "execution_count": null,
   "metadata": {},
   "outputs": [],
   "source": [
    "# Example for panchayat / code crawling\n",
    "\n",
    "location_code = '0203011004'\n",
    "location_type = 'panchayat'\n",
    "report_name = 'ap_jobcard_register'\n",
    "\n",
    "download_report(logger, location_code, location_type, report_name, is_nic=False, force_download=True)"
   ]
  },
  {
   "cell_type": "code",
   "execution_count": 5,
   "metadata": {},
   "outputs": [
    {
     "name": "stderr",
     "output_type": "stream",
     "text": [
      "2020-07-19 20:00:14,827:[libtech_lib.generic.commons|models|populate_queue|43|INFO]: Populating queue\n",
      "2020-07-19 20:00:14,829:[libtech_lib.generic.commons|models|populate_queue|46|INFO]: 0203006\n",
      "2020-07-19 20:00:14,830:[libtech_lib.generic.commons|models|populate_queue|53|INFO]: {'report_type': 'ap_jobcard_register', 'location_code': '0203006', 'location_class': 'APBlock', 'force_download': 'false'}\n",
      "2020-07-19 20:00:15,192:[libtech_lib.generic.commons|api_interface|create_task|67|DEBUG]: Patch status 201 and response b'{\"id\":1138,\"report_type\":\"ap_jobcard_register\",\"location_code\":\"0203006\",\"location_class\":\"APBlock\",\"scheme\":\"nrega\",\"start_finyear\":null,\"end_finyear\":null,\"status\":\"inQueue\",\"priority\":100,\"report_url\":null,\"force_download\":false,\"is_error\":false,\"is_done\":false,\"response\":null,\"start_time\":null,\"end_time\":null,\"duration\":null,\"process_name\":null,\"remarks\":null,\"created\":\"2020-07-19T14:30:15.185283Z\",\"updated\":\"2020-07-19T14:30:15.185314Z\"}'\n",
      "2020-07-19 20:00:15,194:[libtech_lib.generic.commons|models|populate_queue|46|INFO]: 0203005\n",
      "2020-07-19 20:00:15,196:[libtech_lib.generic.commons|models|populate_queue|53|INFO]: {'report_type': 'ap_jobcard_register', 'location_code': '0203005', 'location_class': 'APBlock', 'force_download': 'false'}\n",
      "2020-07-19 20:00:15,533:[libtech_lib.generic.commons|api_interface|create_task|67|DEBUG]: Patch status 201 and response b'{\"id\":1139,\"report_type\":\"ap_jobcard_register\",\"location_code\":\"0203005\",\"location_class\":\"APBlock\",\"scheme\":\"nrega\",\"start_finyear\":null,\"end_finyear\":null,\"status\":\"inQueue\",\"priority\":100,\"report_url\":null,\"force_download\":false,\"is_error\":false,\"is_done\":false,\"response\":null,\"start_time\":null,\"end_time\":null,\"duration\":null,\"process_name\":null,\"remarks\":null,\"created\":\"2020-07-19T14:30:15.528126Z\",\"updated\":\"2020-07-19T14:30:15.528157Z\"}'\n",
      "2020-07-19 20:00:15,535:[libtech_lib.generic.commons|models|populate_queue|46|INFO]: 0203012\n",
      "2020-07-19 20:00:15,537:[libtech_lib.generic.commons|models|populate_queue|53|INFO]: {'report_type': 'ap_jobcard_register', 'location_code': '0203012', 'location_class': 'APBlock', 'force_download': 'false'}\n",
      "2020-07-19 20:00:15,903:[libtech_lib.generic.commons|api_interface|create_task|67|DEBUG]: Patch status 201 and response b'{\"id\":1140,\"report_type\":\"ap_jobcard_register\",\"location_code\":\"0203012\",\"location_class\":\"APBlock\",\"scheme\":\"nrega\",\"start_finyear\":null,\"end_finyear\":null,\"status\":\"inQueue\",\"priority\":100,\"report_url\":null,\"force_download\":false,\"is_error\":false,\"is_done\":false,\"response\":null,\"start_time\":null,\"end_time\":null,\"duration\":null,\"process_name\":null,\"remarks\":null,\"created\":\"2020-07-19T14:30:15.897657Z\",\"updated\":\"2020-07-19T14:30:15.897688Z\"}'\n",
      "2020-07-19 20:00:15,906:[libtech_lib.generic.commons|models|populate_queue|46|INFO]: 0203004\n",
      "2020-07-19 20:00:15,907:[libtech_lib.generic.commons|models|populate_queue|53|INFO]: {'report_type': 'ap_jobcard_register', 'location_code': '0203004', 'location_class': 'APBlock', 'force_download': 'false'}\n",
      "2020-07-19 20:00:16,250:[libtech_lib.generic.commons|api_interface|create_task|67|DEBUG]: Patch status 201 and response b'{\"id\":1141,\"report_type\":\"ap_jobcard_register\",\"location_code\":\"0203004\",\"location_class\":\"APBlock\",\"scheme\":\"nrega\",\"start_finyear\":null,\"end_finyear\":null,\"status\":\"inQueue\",\"priority\":100,\"report_url\":null,\"force_download\":false,\"is_error\":false,\"is_done\":false,\"response\":null,\"start_time\":null,\"end_time\":null,\"duration\":null,\"process_name\":null,\"remarks\":null,\"created\":\"2020-07-19T14:30:16.245447Z\",\"updated\":\"2020-07-19T14:30:16.245477Z\"}'\n",
      "2020-07-19 20:00:16,253:[libtech_lib.generic.commons|models|populate_queue|46|INFO]: 0203011\n",
      "2020-07-19 20:00:16,255:[libtech_lib.generic.commons|models|populate_queue|53|INFO]: {'report_type': 'ap_jobcard_register', 'location_code': '0203011', 'location_class': 'APBlock', 'force_download': 'false'}\n",
      "2020-07-19 20:00:16,597:[libtech_lib.generic.commons|api_interface|create_task|67|DEBUG]: Patch status 201 and response b'{\"id\":1142,\"report_type\":\"ap_jobcard_register\",\"location_code\":\"0203011\",\"location_class\":\"APBlock\",\"scheme\":\"nrega\",\"start_finyear\":null,\"end_finyear\":null,\"status\":\"inQueue\",\"priority\":100,\"report_url\":null,\"force_download\":false,\"is_error\":false,\"is_done\":false,\"response\":null,\"start_time\":null,\"end_time\":null,\"duration\":null,\"process_name\":null,\"remarks\":null,\"created\":\"2020-07-19T14:30:16.592345Z\",\"updated\":\"2020-07-19T14:30:16.592376Z\"}'\n",
      "2020-07-19 20:00:16,599:[libtech_lib.generic.commons|models|populate_queue|46|INFO]: 0203013\n",
      "2020-07-19 20:00:16,601:[libtech_lib.generic.commons|models|populate_queue|53|INFO]: {'report_type': 'ap_jobcard_register', 'location_code': '0203013', 'location_class': 'APBlock', 'force_download': 'false'}\n",
      "2020-07-19 20:00:16,949:[libtech_lib.generic.commons|api_interface|create_task|67|DEBUG]: Patch status 201 and response b'{\"id\":1143,\"report_type\":\"ap_jobcard_register\",\"location_code\":\"0203013\",\"location_class\":\"APBlock\",\"scheme\":\"nrega\",\"start_finyear\":null,\"end_finyear\":null,\"status\":\"inQueue\",\"priority\":100,\"report_url\":null,\"force_download\":false,\"is_error\":false,\"is_done\":false,\"response\":null,\"start_time\":null,\"end_time\":null,\"duration\":null,\"process_name\":null,\"remarks\":null,\"created\":\"2020-07-19T14:30:16.939119Z\",\"updated\":\"2020-07-19T14:30:16.939150Z\"}'\n",
      "2020-07-19 20:00:16,951:[libtech_lib.generic.commons|models|populate_queue|46|INFO]: 0203003\n",
      "2020-07-19 20:00:16,952:[libtech_lib.generic.commons|models|populate_queue|53|INFO]: {'report_type': 'ap_jobcard_register', 'location_code': '0203003', 'location_class': 'APBlock', 'force_download': 'false'}\n",
      "2020-07-19 20:00:17,323:[libtech_lib.generic.commons|api_interface|create_task|67|DEBUG]: Patch status 201 and response b'{\"id\":1144,\"report_type\":\"ap_jobcard_register\",\"location_code\":\"0203003\",\"location_class\":\"APBlock\",\"scheme\":\"nrega\",\"start_finyear\":null,\"end_finyear\":null,\"status\":\"inQueue\",\"priority\":100,\"report_url\":null,\"force_download\":false,\"is_error\":false,\"is_done\":false,\"response\":null,\"start_time\":null,\"end_time\":null,\"duration\":null,\"process_name\":null,\"remarks\":null,\"created\":\"2020-07-19T14:30:17.302652Z\",\"updated\":\"2020-07-19T14:30:17.302683Z\"}'\n",
      "2020-07-19 20:00:17,330:[libtech_lib.generic.commons|models|populate_queue|46|INFO]: 0203014\n",
      "2020-07-19 20:00:17,332:[libtech_lib.generic.commons|models|populate_queue|53|INFO]: {'report_type': 'ap_jobcard_register', 'location_code': '0203014', 'location_class': 'APBlock', 'force_download': 'false'}\n",
      "2020-07-19 20:00:17,718:[libtech_lib.generic.commons|api_interface|create_task|67|DEBUG]: Patch status 201 and response b'{\"id\":1145,\"report_type\":\"ap_jobcard_register\",\"location_code\":\"0203014\",\"location_class\":\"APBlock\",\"scheme\":\"nrega\",\"start_finyear\":null,\"end_finyear\":null,\"status\":\"inQueue\",\"priority\":100,\"report_url\":null,\"force_download\":false,\"is_error\":false,\"is_done\":false,\"response\":null,\"start_time\":null,\"end_time\":null,\"duration\":null,\"process_name\":null,\"remarks\":null,\"created\":\"2020-07-19T14:30:17.705134Z\",\"updated\":\"2020-07-19T14:30:17.705162Z\"}'\n",
      "2020-07-19 20:00:17,722:[libtech_lib.generic.commons|models|populate_queue|46|INFO]: 0203001\n",
      "2020-07-19 20:00:17,724:[libtech_lib.generic.commons|models|populate_queue|53|INFO]: {'report_type': 'ap_jobcard_register', 'location_code': '0203001', 'location_class': 'APBlock', 'force_download': 'false'}\n",
      "2020-07-19 20:00:18,100:[libtech_lib.generic.commons|api_interface|create_task|67|DEBUG]: Patch status 201 and response b'{\"id\":1146,\"report_type\":\"ap_jobcard_register\",\"location_code\":\"0203001\",\"location_class\":\"APBlock\",\"scheme\":\"nrega\",\"start_finyear\":null,\"end_finyear\":null,\"status\":\"inQueue\",\"priority\":100,\"report_url\":null,\"force_download\":false,\"is_error\":false,\"is_done\":false,\"response\":null,\"start_time\":null,\"end_time\":null,\"duration\":null,\"process_name\":null,\"remarks\":null,\"created\":\"2020-07-19T14:30:18.086591Z\",\"updated\":\"2020-07-19T14:30:18.086621Z\"}'\n",
      "2020-07-19 20:00:18,103:[libtech_lib.generic.commons|models|populate_queue|46|INFO]: 0203010\n",
      "2020-07-19 20:00:18,104:[libtech_lib.generic.commons|models|populate_queue|53|INFO]: {'report_type': 'ap_jobcard_register', 'location_code': '0203010', 'location_class': 'APBlock', 'force_download': 'false'}\n"
     ]
    },
    {
     "name": "stderr",
     "output_type": "stream",
     "text": [
      "2020-07-19 20:00:18,470:[libtech_lib.generic.commons|api_interface|create_task|67|DEBUG]: Patch status 201 and response b'{\"id\":1147,\"report_type\":\"ap_jobcard_register\",\"location_code\":\"0203010\",\"location_class\":\"APBlock\",\"scheme\":\"nrega\",\"start_finyear\":null,\"end_finyear\":null,\"status\":\"inQueue\",\"priority\":100,\"report_url\":null,\"force_download\":false,\"is_error\":false,\"is_done\":false,\"response\":null,\"start_time\":null,\"end_time\":null,\"duration\":null,\"process_name\":null,\"remarks\":null,\"created\":\"2020-07-19T14:30:18.460712Z\",\"updated\":\"2020-07-19T14:30:18.460752Z\"}'\n",
      "2020-07-19 20:00:18,473:[libtech_lib.generic.commons|models|populate_queue|46|INFO]: 0203002\n",
      "2020-07-19 20:00:18,475:[libtech_lib.generic.commons|models|populate_queue|53|INFO]: {'report_type': 'ap_jobcard_register', 'location_code': '0203002', 'location_class': 'APBlock', 'force_download': 'false'}\n",
      "2020-07-19 20:00:18,856:[libtech_lib.generic.commons|api_interface|create_task|67|DEBUG]: Patch status 201 and response b'{\"id\":1148,\"report_type\":\"ap_jobcard_register\",\"location_code\":\"0203002\",\"location_class\":\"APBlock\",\"scheme\":\"nrega\",\"start_finyear\":null,\"end_finyear\":null,\"status\":\"inQueue\",\"priority\":100,\"report_url\":null,\"force_download\":false,\"is_error\":false,\"is_done\":false,\"response\":null,\"start_time\":null,\"end_time\":null,\"duration\":null,\"process_name\":null,\"remarks\":null,\"created\":\"2020-07-19T14:30:18.839554Z\",\"updated\":\"2020-07-19T14:30:18.839586Z\"}'\n"
     ]
    }
   ],
   "source": [
    "# How to populate Task Queue\n",
    "\n",
    "location_sample = 'APITDABlockSample' # args.get(\"location_sample\", None)\n",
    "my_sample = getattr(samplemodels, location_sample)(logger)\n",
    "report_type = 'ap_jobcard_register'\n",
    "\n",
    "my_sample.populate_queue(logger, report_type)"
   ]
  },
  {
   "cell_type": "code",
   "execution_count": 4,
   "metadata": {},
   "outputs": [
    {
     "name": "stderr",
     "output_type": "stream",
     "text": [
      "2020-07-19 19:51:15,486:[libtech_lib.generic.commons|models|create_bundle|80|INFO]: ['https://libtech-india-data.s3.ap-south-1.amazonaws.com/data/samples/on_demand/nrega/ap_jobcard_register/02/0203/0203006/ananthagiri_0203006_ap_jobcard_register.csv', 'https://libtech-india-data.s3.ap-south-1.amazonaws.com/data/samples/on_demand/nrega/ap_jobcard_register/02/0203/0203006/ananthagiri_0203006_ap_jobcard_register.xlsx', 'https://libtech-india-data.s3.ap-south-1.amazonaws.com/data/samples/on_demand/nrega/ap_jobcard_register/02/0203/0203005/araku-valley_0203005_ap_jobcard_register.csv', 'https://libtech-india-data.s3.ap-south-1.amazonaws.com/data/samples/on_demand/nrega/ap_jobcard_register/02/0203/0203005/araku-valley_0203005_ap_jobcard_register.xlsx', 'https://libtech-india-data.s3.ap-south-1.amazonaws.com/data/samples/on_demand/nrega/ap_jobcard_register/02/0203/0203012/chintapalle_0203012_ap_jobcard_register.csv', 'https://libtech-india-data.s3.ap-south-1.amazonaws.com/data/samples/on_demand/nrega/ap_jobcard_register/02/0203/0203012/chintapalle_0203012_ap_jobcard_register.xlsx', 'https://libtech-india-data.s3.ap-south-1.amazonaws.com/data/samples/on_demand/nrega/ap_jobcard_register/02/0203/0203011/gangaraju-madugula_0203011_ap_jobcard_register.csv', 'https://libtech-india-data.s3.ap-south-1.amazonaws.com/data/samples/on_demand/nrega/ap_jobcard_register/02/0203/0203011/gangaraju-madugula_0203011_ap_jobcard_register.xlsx', 'https://libtech-india-data.s3.ap-south-1.amazonaws.com/data/samples/on_demand/nrega/ap_jobcard_register/02/0203/0203003/hukumpeta_0203003_ap_jobcard_register.csv', 'https://libtech-india-data.s3.ap-south-1.amazonaws.com/data/samples/on_demand/nrega/ap_jobcard_register/02/0203/0203003/hukumpeta_0203003_ap_jobcard_register.xlsx', 'https://libtech-india-data.s3.ap-south-1.amazonaws.com/data/samples/on_demand/nrega/ap_jobcard_register/02/0203/0203014/koyyuru_0203014_ap_jobcard_register.csv', 'https://libtech-india-data.s3.ap-south-1.amazonaws.com/data/samples/on_demand/nrega/ap_jobcard_register/02/0203/0203014/koyyuru_0203014_ap_jobcard_register.xlsx']\n",
      "2020-07-19 19:51:15,659:[libtech_lib.generic.commons|commons|download_save_file|249|INFO]: saving to /home/mayank/repo/libtechIndiaCrawler/Data/jobcard_register/ananthagiri_0203006_ap_jobcard_register.csv\n",
      "2020-07-19 19:51:25,822:[libtech_lib.generic.commons|commons|download_save_file|249|INFO]: saving to /home/mayank/repo/libtechIndiaCrawler/Data/jobcard_register/ananthagiri_0203006_ap_jobcard_register.xlsx\n",
      "2020-07-19 19:51:30,833:[libtech_lib.generic.commons|commons|download_save_file|249|INFO]: saving to /home/mayank/repo/libtechIndiaCrawler/Data/jobcard_register/araku-valley_0203005_ap_jobcard_register.csv\n",
      "2020-07-19 19:51:42,882:[libtech_lib.generic.commons|commons|download_save_file|249|INFO]: saving to /home/mayank/repo/libtechIndiaCrawler/Data/jobcard_register/araku-valley_0203005_ap_jobcard_register.xlsx\n",
      "2020-07-19 19:51:48,952:[libtech_lib.generic.commons|commons|download_save_file|249|INFO]: saving to /home/mayank/repo/libtechIndiaCrawler/Data/jobcard_register/chintapalle_0203012_ap_jobcard_register.csv\n",
      "2020-07-19 19:52:02,827:[libtech_lib.generic.commons|commons|download_save_file|249|INFO]: saving to /home/mayank/repo/libtechIndiaCrawler/Data/jobcard_register/chintapalle_0203012_ap_jobcard_register.xlsx\n",
      "2020-07-19 19:52:09,498:[libtech_lib.generic.commons|commons|download_save_file|249|INFO]: saving to /home/mayank/repo/libtechIndiaCrawler/Data/jobcard_register/gangaraju-madugula_0203011_ap_jobcard_register.csv\n",
      "2020-07-19 19:52:21,630:[libtech_lib.generic.commons|commons|download_save_file|249|INFO]: saving to /home/mayank/repo/libtechIndiaCrawler/Data/jobcard_register/gangaraju-madugula_0203011_ap_jobcard_register.xlsx\n",
      "2020-07-19 19:52:27,382:[libtech_lib.generic.commons|commons|download_save_file|249|INFO]: saving to /home/mayank/repo/libtechIndiaCrawler/Data/jobcard_register/hukumpeta_0203003_ap_jobcard_register.csv\n",
      "2020-07-19 19:52:40,824:[libtech_lib.generic.commons|commons|download_save_file|249|INFO]: saving to /home/mayank/repo/libtechIndiaCrawler/Data/jobcard_register/hukumpeta_0203003_ap_jobcard_register.xlsx\n",
      "2020-07-19 19:52:47,047:[libtech_lib.generic.commons|commons|download_save_file|249|INFO]: saving to /home/mayank/repo/libtechIndiaCrawler/Data/jobcard_register/koyyuru_0203014_ap_jobcard_register.csv\n",
      "2020-07-19 19:52:59,791:[libtech_lib.generic.commons|commons|download_save_file|249|INFO]: saving to /home/mayank/repo/libtechIndiaCrawler/Data/jobcard_register/koyyuru_0203014_ap_jobcard_register.xlsx\n"
     ]
    },
    {
     "data": {
      "text/plain": [
       "'../Data/jobcard_reports.zip'"
      ]
     },
     "execution_count": 4,
     "metadata": {},
     "output_type": "execute_result"
    }
   ],
   "source": [
    "# Example for getting of existing reports (already downloaded)\n",
    "\n",
    "location_sample = 'APITDABlockSample' # args.get(\"location_sample\", None)\n",
    "my_sample = getattr(samplemodels, location_sample)(logger)\n",
    "report_types = [ 'ap_jobcard_register' ]  # [\"jobcard_register\", \"nic_stats\"]\n",
    "zip_file_name = \"../Data/Chakri_25JUL20_JCReport\"\n",
    "download_dir  = \"../Data/jobcard_register\"\n",
    "my_sample.create_bundle(logger, report_types, download_dir=download_dir, zip_file_name=zip_file_name, save_to_s3=True)"
   ]
  }
 ],
 "metadata": {
  "kernelspec": {
   "display_name": "Python 3",
   "language": "python",
   "name": "python3"
  },
  "language_info": {
   "codemirror_mode": {
    "name": "ipython",
    "version": 3
   },
   "file_extension": ".py",
   "mimetype": "text/x-python",
   "name": "python",
   "nbconvert_exporter": "python",
   "pygments_lexer": "ipython3",
   "version": "3.8.2"
  }
 },
 "nbformat": 4,
 "nbformat_minor": 4
}
