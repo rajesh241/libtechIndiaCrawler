{
 "cells": [
  {
   "cell_type": "code",
   "execution_count": null,
   "metadata": {
    "autoscroll": false,
    "ein.hycell": false,
    "ein.tags": "worksheet-0",
    "slideshow": {
     "slide_type": "-"
    }
   },
   "outputs": [],
   "source": [
    "import requests\n",
    "import pandas as pd\n",
    "from bs4 import BeautifulSoup, NavigableString, Tag\n",
    "from slugify import slugify"
   ]
  },
  {
   "cell_type": "markdown",
   "metadata": {
    "ein.tags": "worksheet-0",
    "slideshow": {
     "slide_type": "-"
    }
   },
   "source": [
    "# MNREGA S4.15"
   ]
  },
  {
   "cell_type": "code",
   "execution_count": null,
   "metadata": {
    "autoscroll": false,
    "ein.hycell": false,
    "ein.tags": "worksheet-0",
    "slideshow": {
     "slide_type": "-"
    }
   },
   "outputs": [],
   "source": [
    "# Set up the Session\n",
    "\n",
    "url = 'https://nrega.nic.in/netnrega/home.aspx'\n",
    "session = requests.Session()\n",
    "#with requests.Session() as session:\n",
    "response = session.get(url)\n",
    "cookies = session.cookies\n",
    "print(cookies)"
   ]
  },
  {
   "cell_type": "code",
   "execution_count": null,
   "metadata": {},
   "outputs": [],
   "source": [
    "# Fetch the block level URL with desired finyear \n",
    "\n",
    "district_code = '3403'\n",
    "district_name = 'GUMLA'\n",
    "state_name = 'JHARKHAND'\n",
    "state_code = '34'\n",
    "finyear = '2020-2021'\n",
    "block_name = 'BASIA'\n",
    "block_code = '3403009'\n",
    "\n",
    "url = f'http://nregasp2.nic.in/netnrega/Progofficer/PoIndexFrame.aspx?flag_debited=D&lflag=local&District_Code=3403&district_name=GUMLA&state_name=JHARKHAND&state_Code=34&finyear=2020-2021&check=1&block_name=BASIA&Block_Code=3403009'\n",
    "'''\n",
    "url = f'http://nregasp2.nic.in/netnrega/Progofficer/PoIndexFrame.aspx?flag_debited=D&lflag=local&\\\n",
    "District_Code={district_code}&district_name={district_name}&\\\n",
    "state_name={state_name}&state_Code={state_code}&\\\n",
    "finyear={finyear}&check=1&\\\n",
    "block_name={block_name}&Block_Code={block_code}'\n",
    "'''\n",
    "print(url)\n",
    "response = session.get(url)\n",
    "\n",
    "print(response)\n",
    "\n",
    "soup = BeautifulSoup(response.text, 'lxml')\n",
    "print(soup.prettify())\n",
    "\n"
   ]
  },
  {
   "cell_type": "code",
   "execution_count": null,
   "metadata": {},
   "outputs": [],
   "source": [
    "# Fetch Employment Offered Report URL\n",
    "\n",
    "html = soup.find(text='Employment Provided Period wise ')\n",
    "url = 'http://nregasp2.nic.in/netnrega/state_html/pmsr.aspx' + html.parent.parent['href'].strip('../state_html/pmsr.aspx')\n",
    "print(url)\n",
    "response = session.get(url, cookies=cookies, verify=False)"
   ]
  },
  {
   "cell_type": "code",
   "execution_count": null,
   "metadata": {},
   "outputs": [],
   "source": [
    "soup = BeautifulSoup(response.text, 'lxml')\n",
    "print(soup.prettify())\n"
   ]
  },
  {
   "cell_type": "code",
   "execution_count": null,
   "metadata": {},
   "outputs": [],
   "source": [
    "# Click on the Panchayat Link\n",
    "html = soup.find(text='EITAM')\n",
    "print(html.parent['href'])\n",
    "url = 'http://nregasp2.nic.in/netnrega/state_html/' + html.parent['href']\n",
    "print(url)\n",
    "response = session.get(url)\n",
    "soup = BeautifulSoup(response.text, 'lxml')\n",
    "print(soup.prettify())\n",
    "VIEWSTATE=soup.find(id=\"__VIEWSTATE\")['value']\n",
    "EVENTVALIDATION=soup.find(id=\"__EVENTVALIDATION\")['value']\n"
   ]
  },
  {
   "cell_type": "markdown",
   "metadata": {},
   "source": [
    "## POST REQUESTS FROM HERE ON"
   ]
  },
  {
   "cell_type": "code",
   "execution_count": null,
   "metadata": {},
   "outputs": [],
   "source": [
    "# Block Drop Down\n",
    "\n",
    "headers = {\n",
    "    'Connection': 'keep-alive',\n",
    "    'Cache-Control': 'no-cache',\n",
    "    'X-MicrosoftAjax': 'Delta=true',\n",
    "    'User-Agent': 'Mozilla/5.0 (X11; Linux x86_64) AppleWebKit/537.36 (KHTML, like Gecko) Chrome/81.0.4044.142 Safari/537.36',\n",
    "    'Content-Type': 'application/x-www-form-urlencoded; charset=UTF-8',\n",
    "    'Accept': '*/*',\n",
    "    'Origin': 'http://nregasp2.nic.in',\n",
    "    'Referer': 'http://nregasp2.nic.in/netnrega/state_html/empspecifydays.aspx?lflag=local&page=B&state_name=JHARKHAND&state_code=34&block_name=BASIA&block_code=3403009&district_name=GUMLA&panchayat_code=3403009003&panchayat_name=EITAM&district_code=3403&fin_year=2020-2021&source=&Digest=mM5ECngA3McTRQzZFTt+9A',\n",
    "    'Accept-Language': 'en-US,en;q=0.9',\n",
    "}\n",
    "\n",
    "params = (\n",
    "    ('lflag', 'local'),\n",
    "    ('page', 'B'),\n",
    "    ('state_name', 'JHARKHAND'),\n",
    "    ('state_code', '34'),\n",
    "    ('block_name', 'BASIA'),\n",
    "    ('block_code', '3403009'),\n",
    "    ('district_name', 'GUMLA'),\n",
    "    ('panchayat_code', '3403009003'),\n",
    "    ('panchayat_name', 'EITAM'),\n",
    "    ('district_code', '3403'),\n",
    "    ('fin_year', '2020-2021'),\n",
    "    ('source', ''),\n",
    "    ('Digest', 'mM5ECngA3McTRQzZFTt 9A'),\n",
    ")\n",
    "\n",
    "data = {\n",
    "  'ctl00$ContentPlaceHolder1$ScriptManager1': 'ctl00$ContentPlaceHolder1$UpdatePanel1|ctl00$ContentPlaceHolder1$ddr_blk',\n",
    "  '__EVENTTARGET': 'ctl00$ContentPlaceHolder1$ddr_blk',\n",
    "  '__EVENTARGUMENT': '',\n",
    "  '__LASTFOCUS': '',\n",
    "  '__VIEWSTATE': VIEWSTATE,\n",
    "  '__EVENTVALIDATION': EVENTVALIDATION,\n",
    "  'ctl00$ContentPlaceHolder1$ddr_blk': '3403003',\n",
    "  'ctl00$ContentPlaceHolder1$ddr_panch': '--Select--',\n",
    "  'ctl00$ContentPlaceHolder1$ddr_cond': '',\n",
    "  'ctl00$ContentPlaceHolder1$lbl_days': '100',\n",
    "  'ctl00$ContentPlaceHolder1$rblRegWorker': 'Y',\n",
    "  '__ASYNCPOST': 'true',\n",
    "  '': ''\n",
    "}\n",
    "\n",
    "response = session.post('http://nregasp2.nic.in/netnrega/state_html/empspecifydays.aspx', headers=headers, params=params, cookies=cookies, data=data, verify=False)\n",
    "response"
   ]
  },
  {
   "cell_type": "code",
   "execution_count": null,
   "metadata": {},
   "outputs": [],
   "source": [
    "soup = BeautifulSoup(response.text, 'lxml')\n",
    "print(soup.prettify())\n",
    "\n",
    "# Update the context\n",
    "body = soup.find('body')\n",
    "#logger.warning(body.text)\n",
    "array = body.text.split('|')\n",
    "VIEWSTATE = array[array.index('__VIEWSTATE')+1]\n",
    "#logger.debug(self.view_state)\n",
    "EVENTVALIDATION = array[array.index('__EVENTVALIDATION')+1]\n",
    "#logger.debug(self.event_validation)\n"
   ]
  },
  {
   "cell_type": "code",
   "execution_count": null,
   "metadata": {},
   "outputs": [],
   "source": [
    "# Panchayat Drop Down\n",
    "headers = {\n",
    "    'Connection': 'keep-alive',\n",
    "    'Cache-Control': 'no-cache',\n",
    "    'X-MicrosoftAjax': 'Delta=true',\n",
    "    'User-Agent': 'Mozilla/5.0 (X11; Linux x86_64) AppleWebKit/537.36 (KHTML, like Gecko) Chrome/81.0.4044.142 Safari/537.36',\n",
    "    'Content-Type': 'application/x-www-form-urlencoded; charset=UTF-8',\n",
    "    'Accept': '*/*',\n",
    "    'Origin': 'http://nregasp2.nic.in',\n",
    "    'Referer': 'http://nregasp2.nic.in/netnrega/state_html/empspecifydays.aspx?lflag=local&page=B&state_name=JHARKHAND&state_code=34&block_name=BASIA&block_code=3403009&district_name=GUMLA&panchayat_code=3403009003&panchayat_name=EITAM&district_code=3403&fin_year=2020-2021&source=&Digest=mM5ECngA3McTRQzZFTt+9A',\n",
    "    'Accept-Language': 'en-US,en;q=0.9',\n",
    "}\n",
    "\n",
    "params = (\n",
    "    ('lflag', 'local'),\n",
    "    ('page', 'B'),\n",
    "    ('state_name', 'JHARKHAND'),\n",
    "    ('state_code', '34'),\n",
    "    ('block_name', 'BASIA'),\n",
    "    ('block_code', '3403009'),\n",
    "    ('district_name', 'GUMLA'),\n",
    "    ('panchayat_code', '3403009003'),\n",
    "    ('panchayat_name', 'EITAM'),\n",
    "    ('district_code', '3403'),\n",
    "    ('fin_year', '2020-2021'),\n",
    "    ('source', ''),\n",
    "    ('Digest', 'mM5ECngA3McTRQzZFTt 9A'),\n",
    ")\n",
    "\n",
    "data = {\n",
    "  'ctl00$ContentPlaceHolder1$ScriptManager1': 'ctl00$ContentPlaceHolder1$UpdatePanel1|ctl00$ContentPlaceHolder1$ddr_panch',\n",
    "  'ctl00$ContentPlaceHolder1$ddr_blk': '3403003',\n",
    "  'ctl00$ContentPlaceHolder1$ddr_panch': '3403003002',\n",
    "  'ctl00$ContentPlaceHolder1$ddr_cond': '',\n",
    "  'ctl00$ContentPlaceHolder1$lbl_days': '100',\n",
    "  'ctl00$ContentPlaceHolder1$rblRegWorker': 'Y',\n",
    "  '__EVENTTARGET': 'ctl00$ContentPlaceHolder1$ddr_panch',\n",
    "  '__EVENTARGUMENT': '',\n",
    "  '__LASTFOCUS': '',\n",
    "  '__VIEWSTATE': VIEWSTATE,\n",
    "  '__EVENTVALIDATION': EVENTVALIDATION,\n",
    "  '__ASYNCPOST': 'true',\n",
    "  '': ''\n",
    "}\n",
    "\n",
    "response = session.post('http://nregasp2.nic.in/netnrega/state_html/empspecifydays.aspx', headers=headers, params=params, cookies=cookies, data=data, verify=False)\n",
    "response"
   ]
  },
  {
   "cell_type": "code",
   "execution_count": null,
   "metadata": {},
   "outputs": [],
   "source": [
    "soup = BeautifulSoup(response.text, 'lxml')\n",
    "print(soup.prettify())\n",
    "\n",
    "# Update the context\n",
    "body = soup.find('body')\n",
    "#logger.warning(body.text)\n",
    "array = body.text.split('|')\n",
    "VIEWSTATE = array[array.index('__VIEWSTATE')+1]\n",
    "#logger.debug(self.view_state)\n",
    "EVENTVALIDATION = array[array.index('__EVENTVALIDATION')+1]\n",
    "#logger.debug(self.event_validation)\n"
   ]
  },
  {
   "cell_type": "code",
   "execution_count": null,
   "metadata": {},
   "outputs": [],
   "source": [
    "# With gt 0 and worker wise\n",
    "\n",
    "headers = {\n",
    "    'Connection': 'keep-alive',\n",
    "    'Cache-Control': 'no-cache',\n",
    "    'X-MicrosoftAjax': 'Delta=true',\n",
    "    'User-Agent': 'Mozilla/5.0 (X11; Linux x86_64) AppleWebKit/537.36 (KHTML, like Gecko) Chrome/81.0.4044.142 Safari/537.36',\n",
    "    'Content-Type': 'application/x-www-form-urlencoded; charset=UTF-8',\n",
    "    'Accept': '*/*',\n",
    "    'Origin': 'http://nregasp2.nic.in',\n",
    "    'Referer': 'http://nregasp2.nic.in/netnrega/state_html/empspecifydays.aspx?lflag=local&page=B&state_name=JHARKHAND&state_code=34&block_name=BASIA&block_code=3403009&district_name=GUMLA&panchayat_code=3403009003&panchayat_name=EITAM&district_code=3403&fin_year=2020-2021&source=&Digest=mM5ECngA3McTRQzZFTt+9A',\n",
    "    'Accept-Language': 'en-US,en;q=0.9',\n",
    "}\n",
    "\n",
    "params = (\n",
    "    ('lflag', 'local'),\n",
    "    ('page', 'B'),\n",
    "    ('state_name', 'JHARKHAND'),\n",
    "    ('state_code', '34'),\n",
    "    ('block_name', 'BASIA'),\n",
    "    ('block_code', '3403009'),\n",
    "    ('district_name', 'GUMLA'),\n",
    "    ('panchayat_code', '3403009003'),\n",
    "    ('panchayat_name', 'EITAM'),\n",
    "    ('district_code', '3403'),\n",
    "    ('fin_year', '2020-2021'),\n",
    "    ('source', ''),\n",
    "    ('Digest', 'mM5ECngA3McTRQzZFTt 9A'),\n",
    ")\n",
    "\n",
    "data = {\n",
    "  'ctl00$ContentPlaceHolder1$ScriptManager1': 'ctl00$ContentPlaceHolder1$UpdatePanel1|ctl00$ContentPlaceHolder1$ddr_cond',\n",
    "  'ctl00$ContentPlaceHolder1$ddr_blk': '3403003',\n",
    "  'ctl00$ContentPlaceHolder1$ddr_panch': '3403003002',\n",
    "  'ctl00$ContentPlaceHolder1$ddr_cond': 'gt',\n",
    "  'ctl00$ContentPlaceHolder1$lbl_days': '0',\n",
    "  'ctl00$ContentPlaceHolder1$rblRegWorker': 'N',\n",
    "  '__EVENTTARGET': 'ctl00$ContentPlaceHolder1$ddr_cond',\n",
    "  '__EVENTARGUMENT': '',\n",
    "  '__LASTFOCUS': '',\n",
    "  '__VIEWSTATE': VIEWSTATE,\n",
    "  '__EVENTVALIDATION': EVENTVALIDATION,\n",
    "  '__ASYNCPOST': 'true',\n",
    "  '': ''\n",
    "}\n",
    "\n",
    "response = session.post('http://nregasp2.nic.in/netnrega/state_html/empspecifydays.aspx', headers=headers, params=params, cookies=cookies, data=data, verify=False)\n",
    "response"
   ]
  },
  {
   "cell_type": "code",
   "execution_count": null,
   "metadata": {},
   "outputs": [],
   "source": [
    "soup = BeautifulSoup(response.text, 'lxml')\n",
    "print(soup.prettify())\n",
    "\n",
    "# Update the context\n",
    "body = soup.find('body')\n",
    "#logger.warning(body.text)\n",
    "array = body.text.split('|')\n",
    "VIEWSTATE = array[array.index('__VIEWSTATE')+1]\n",
    "#logger.debug(self.view_state)\n",
    "EVENTVALIDATION = array[array.index('__EVENTVALIDATION')+1]\n",
    "#logger.debug(self.event_validation)\n"
   ]
  },
  {
   "cell_type": "code",
   "execution_count": null,
   "metadata": {},
   "outputs": [],
   "source": [
    "# Proceed Button\n",
    "\n",
    "headers = {\n",
    "    'Connection': 'keep-alive',\n",
    "    'Cache-Control': 'no-cache',\n",
    "    'X-MicrosoftAjax': 'Delta=true',\n",
    "    'User-Agent': 'Mozilla/5.0 (X11; Linux x86_64) AppleWebKit/537.36 (KHTML, like Gecko) Chrome/81.0.4044.142 Safari/537.36',\n",
    "    'Content-Type': 'application/x-www-form-urlencoded; charset=UTF-8',\n",
    "    'Accept': '*/*',\n",
    "    'Origin': 'http://nregasp2.nic.in',\n",
    "    'Referer': 'http://nregasp2.nic.in/netnrega/state_html/empspecifydays.aspx?lflag=local&page=B&state_name=JHARKHAND&state_code=34&block_name=BASIA&block_code=3403009&district_name=GUMLA&panchayat_code=3403009003&panchayat_name=EITAM&district_code=3403&fin_year=2020-2021&source=&Digest=mM5ECngA3McTRQzZFTt+9A',\n",
    "    'Accept-Language': 'en-US,en;q=0.9',\n",
    "}\n",
    "\n",
    "params = (\n",
    "    ('lflag', 'local'),\n",
    "    ('page', 'B'),\n",
    "    ('state_name', 'JHARKHAND'),\n",
    "    ('state_code', '34'),\n",
    "    ('block_name', 'BASIA'),\n",
    "    ('block_code', '3403009'),\n",
    "    ('district_name', 'GUMLA'),\n",
    "    ('panchayat_code', '3403009003'),\n",
    "    ('panchayat_name', 'EITAM'),\n",
    "    ('district_code', '3403'),\n",
    "    ('fin_year', '2020-2021'),\n",
    "    ('source', ''),\n",
    "    ('Digest', 'mM5ECngA3McTRQzZFTt 9A'),\n",
    ")\n",
    "\n",
    "data = {\n",
    "  'ctl00$ContentPlaceHolder1$ScriptManager1': 'ctl00$ContentPlaceHolder1$UpdatePanel1|ctl00$ContentPlaceHolder1$btn_pro',\n",
    "  'ctl00$ContentPlaceHolder1$ddr_blk': '3403009',\n",
    "  'ctl00$ContentPlaceHolder1$ddr_panch': '3403009003',\n",
    "  'ctl00$ContentPlaceHolder1$ddr_cond': 'gt',\n",
    "  'ctl00$ContentPlaceHolder1$lbl_days': '0',\n",
    "  'ctl00$ContentPlaceHolder1$rblRegWorker': 'N',\n",
    "  '__EVENTTARGET': 'ctl00$ContentPlaceHolder1$btn_pro',\n",
    "  '__EVENTARGUMENT': '',\n",
    "  '__LASTFOCUS': '',\n",
    "  '__VIEWSTATE': VIEWSTATE,\n",
    "  '__EVENTVALIDATION': EVENTVALIDATION,\n",
    "  '__ASYNCPOST': 'true',\n",
    "  '': ''\n",
    "}\n",
    "\n",
    "response = session.post('http://nregasp2.nic.in/netnrega/state_html/empspecifydays.aspx', headers=headers, params=params, cookies=cookies, data=data, verify=False)\n"
   ]
  },
  {
   "cell_type": "code",
   "execution_count": null,
   "metadata": {},
   "outputs": [],
   "source": [
    "# Fetch the redirect URL\n",
    "\n",
    "soup = BeautifulSoup(response.text, 'lxml')\n",
    "print(soup.prettify())\n",
    "\n",
    "# Fetch the redirect URL\n",
    "body = soup.find('body')\n",
    "print(body)\n",
    "p = body.find('p')\n",
    "print(p.text)\n",
    "array = p.text.split('|')\n",
    "print(array.index('pageRedirect'))\n",
    "print(array[array.index('pageRedirect')+2])\n",
    "redirect_url = array[array.index('pageRedirect')+2]\n",
    "print(f'URL[{redirect_url}]')\n",
    "url = 'http://nregasp2.nic.in' + redirect_url\n",
    "print(url)"
   ]
  },
  {
   "cell_type": "code",
   "execution_count": null,
   "metadata": {},
   "outputs": [],
   "source": [
    "# Fetch the report :)\n",
    "\n",
    "response = session.get(url, cookies=cookies, verify=False)\n",
    "\n",
    "soup = BeautifulSoup(response.text, 'lxml')\n",
    "print(soup.prettify())"
   ]
  },
  {
   "cell_type": "markdown",
   "metadata": {},
   "source": [
    "## END"
   ]
  },
  {
   "cell_type": "code",
   "execution_count": null,
   "metadata": {},
   "outputs": [],
   "source": []
  }
 ],
 "metadata": {
  "kernelspec": {
   "display_name": ".venv",
   "language": "python",
   "name": ".venv"
  },
  "language_info": {
   "codemirror_mode": {
    "name": "ipython",
    "version": 3
   },
   "file_extension": ".py",
   "mimetype": "text/x-python",
   "name": "python",
   "nbconvert_exporter": "python",
   "pygments_lexer": "ipython3",
   "version": "3.7.6"
  },
  "name": "NIC_muster_rolls.ipynb"
 },
 "nbformat": 4,
 "nbformat_minor": 2
}
