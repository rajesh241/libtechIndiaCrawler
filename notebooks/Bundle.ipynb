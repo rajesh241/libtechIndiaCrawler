{
 "cells": [
  {
   "cell_type": "code",
   "execution_count": null,
   "metadata": {},
   "outputs": [],
   "source": [
    "import requests\n",
    "import json\n",
    "baseURL=\"http://b.libtech.in\"\n",
    "apiusername=''\n",
    "apipassword=''\n",
    "baseURL = \"http://backend.libtech.in:8080\"\n",
    "baseURL=\"https://backend.libtech.in\"\n"
   ]
  },
  {
   "cell_type": "code",
   "execution_count": null,
   "metadata": {},
   "outputs": [],
   "source": [
    "AUTHENDPOINT='%s/api/user/token/' % (baseURL)\n",
    "TESTURL=\"%s/api/test/\" % (baseURL)\n",
    "REPORTURL=\"%s/api/report/\" % (baseURL)\n",
    "TASKURL=\"%s/api/public/queue/\" % (baseURL)\n",
    "GETREPORTURL=\"%s/api/getReport/\" % (baseURL)\n",
    "LOCATIONURL=\"%s/api/public/location/\" % (baseURL)\n",
    "bundle_endpoint = \"%s/api/public/bundle/\" % (baseURL)"
   ]
  },
  {
   "cell_type": "code",
   "execution_count": null,
   "metadata": {},
   "outputs": [],
   "source": [
    "def get_headers(email, password):\n",
    "    data={\n",
    "      'email' : email,\n",
    "      'password' : password\n",
    "            }\n",
    "    r=requests.post(AUTHENDPOINT,data=data)\n",
    "    token=r.json()['access']\n",
    "    headers={\n",
    "      'content-type':'application/json',\n",
    "      \"Authorization\" : \"Bearer \" + token\n",
    "    }\n",
    "    return headers"
   ]
  },
  {
   "cell_type": "code",
   "execution_count": null,
   "metadata": {},
   "outputs": [],
   "source": [
    "#please enter valid password\n",
    "headers = get_headers('', '')\n",
    "print(headers)"
   ]
  },
  {
   "cell_type": "markdown",
   "metadata": {},
   "source": [
    "# Create. Bundle"
   ]
  },
  {
   "cell_type": "markdown",
   "metadata": {},
   "source": [
    "## Parameters\n",
    "- libtech_tags. FESNIC, FESAP, FES\n",
    "- location_type  block or panchayat,\n",
    "- report_types. comma seperated values of the reports to be downloaded\n",
    "- filename  zip file name, without .zip\n",
    "- title.  anything description to remember what this bundle is for\n",
    "- report_format one of excel, csv or both"
   ]
  },
  {
   "cell_type": "code",
   "execution_count": null,
   "metadata": {},
   "outputs": [],
   "source": [
    "data = {\n",
    "    'title' : 'test bundle',\n",
    "    'libtech_tags' : 'FESNIC',\n",
    "    'location_type' : 'block',\n",
    "    'report_types' : 'dynamic_work_report_r6_18',\n",
    "    'filename' : 'dyanamic_work_report_18oct20',\n",
    "    'report_format' : 'excel'\n",
    "}"
   ]
  },
  {
   "cell_type": "code",
   "execution_count": null,
   "metadata": {},
   "outputs": [],
   "source": [
    "r = requests.post(bundle_endpoint, headers=headers, data=json.dumps(data))\n",
    "print(r.status_code)\n",
    "print(r.content)"
   ]
  },
  {
   "cell_type": "code",
   "execution_count": null,
   "metadata": {},
   "outputs": [],
   "source": []
  }
 ],
 "metadata": {
  "kernelspec": {
   "display_name": "Python 3",
   "language": "python",
   "name": "python3"
  },
  "language_info": {
   "codemirror_mode": {
    "name": "ipython",
    "version": 3
   },
   "file_extension": ".py",
   "mimetype": "text/x-python",
   "name": "python",
   "nbconvert_exporter": "python",
   "pygments_lexer": "ipython3",
   "version": "3.8.5"
  }
 },
 "nbformat": 4,
 "nbformat_minor": 4
}
