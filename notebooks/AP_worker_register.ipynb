{
 "cells": [
  {
   "cell_type": "markdown",
   "metadata": {},
   "source": [
    "### Worker register\n",
    "\n",
    "The following script allows you to get the list of all the workers in the given jobcard. The actual data is inside modules -> wageseekers -> Jobcard holders information -> select the village -> click on the jobcard"
   ]
  },
  {
   "cell_type": "code",
   "execution_count": null,
   "metadata": {},
   "outputs": [],
   "source": [
    "import pandas as pd"
   ]
  },
  {
   "cell_type": "code",
   "execution_count": null,
   "metadata": {},
   "outputs": [],
   "source": [
    "import requests"
   ]
  },
  {
   "cell_type": "code",
   "execution_count": null,
   "metadata": {},
   "outputs": [],
   "source": [
    "import warnings\n",
    "warnings.filterwarnings('ignore')"
   ]
  },
  {
   "cell_type": "code",
   "execution_count": null,
   "metadata": {},
   "outputs": [],
   "source": [
    "village_list = ['Kandrum','Sagara','Panasavalasa']"
   ]
  },
  {
   "cell_type": "code",
   "execution_count": null,
   "metadata": {},
   "outputs": [],
   "source": [
    "panchayat_list = ['Kandrum','Sagara','Sovva']"
   ]
  },
  {
   "cell_type": "code",
   "execution_count": null,
   "metadata": {},
   "outputs": [],
   "source": [
    "mandal_jc_register = pd.read_csv('/home/ranu/repos/libtechIndiaCrawler/Data/ApJobcardRegister/Dumbriguda_ap_jc_register.csv')"
   ]
  },
  {
   "cell_type": "code",
   "execution_count": null,
   "metadata": {},
   "outputs": [],
   "source": [
    "mandal_jc_register = mandal_jc_register[mandal_jc_register.village_name.isin(village_list)]"
   ]
  },
  {
   "cell_type": "code",
   "execution_count": null,
   "metadata": {},
   "outputs": [],
   "source": [
    "mandal_jc_register = mandal_jc_register[mandal_jc_register.panchayat_name.isin(panchayat_list)]"
   ]
  },
  {
   "cell_type": "code",
   "execution_count": null,
   "metadata": {},
   "outputs": [],
   "source": [
    "mandal_jc_register.panchayat_name.unique()"
   ]
  },
  {
   "cell_type": "code",
   "execution_count": null,
   "metadata": {},
   "outputs": [],
   "source": [
    "mandal_jc_register.block_name.unique()"
   ]
  },
  {
   "cell_type": "code",
   "execution_count": null,
   "metadata": {},
   "outputs": [],
   "source": [
    "mandal_jc_register.village_name.unique()"
   ]
  },
  {
   "cell_type": "code",
   "execution_count": null,
   "metadata": {},
   "outputs": [],
   "source": [
    "mandal_jc_register['Jobcard ID'] = '0' + mandal_jc_register['Jobcard ID'].astype(str)"
   ]
  },
  {
   "cell_type": "code",
   "execution_count": null,
   "metadata": {},
   "outputs": [],
   "source": [
    "mandal_jc_register.village_code = mandal_jc_register.village_code.astype(str).str.rjust(3, \"0\")"
   ]
  },
  {
   "cell_type": "code",
   "execution_count": null,
   "metadata": {},
   "outputs": [],
   "source": [
    "mandal_jc_register.village_code = mandal_jc_register.panchayat_code.astype(str) + mandal_jc_register.village_code.astype(str)"
   ]
  },
  {
   "cell_type": "code",
   "execution_count": null,
   "metadata": {
    "scrolled": true
   },
   "outputs": [],
   "source": [
    "headOfTheFamily_dict = dict(zip(mandal_jc_register['Jobcard ID'],mandal_jc_register['Head of Family']))"
   ]
  },
  {
   "cell_type": "code",
   "execution_count": null,
   "metadata": {},
   "outputs": [],
   "source": [
    "village_dict = dict(zip(mandal_jc_register['Jobcard ID'], mandal_jc_register.village_name))"
   ]
  },
  {
   "cell_type": "code",
   "execution_count": null,
   "metadata": {},
   "outputs": [],
   "source": [
    "block_dict = dict(zip(mandal_jc_register['Jobcard ID'],mandal_jc_register.block_name))"
   ]
  },
  {
   "cell_type": "code",
   "execution_count": null,
   "metadata": {},
   "outputs": [],
   "source": [
    "gp_dict = dict(zip(mandal_jc_register['Jobcard ID'],mandal_jc_register.panchayat_name))"
   ]
  },
  {
   "cell_type": "code",
   "execution_count": null,
   "metadata": {},
   "outputs": [],
   "source": [
    "nic_jc_dict = dict(zip(mandal_jc_register['Jobcard ID'],mandal_jc_register['Govt of India JobCard ID']))"
   ]
  },
  {
   "cell_type": "code",
   "execution_count": null,
   "metadata": {},
   "outputs": [],
   "source": [
    "def fetch_workers_register(jobcard):\n",
    "    \n",
    "    cookies = {\n",
    "    'JSESSIONID': '8252084C0821D68FAE4E1B2F7A2768DC.mgnregsapps1',\n",
    "}\n",
    "\n",
    "\n",
    "    headers = {\n",
    "        'Connection': 'keep-alive',\n",
    "        'Cache-Control': 'max-age=0',\n",
    "        'Upgrade-Insecure-Requests': '1',\n",
    "        'User-Agent': 'Mozilla/5.0 (Linux; Android 6.0; Nexus 5 Build/MRA58N) AppleWebKit/537.36 (KHTML, like Gecko) Chrome/84.0.4147.89 Mobile Safari/537.36',\n",
    "        'Accept': 'text/html,application/xhtml+xml,application/xml;q=0.9,image/webp,image/apng,*/*;q=0.8,application/signed-exchange;v=b3;q=0.9',\n",
    "        'Referer': 'http://www.nrega.ap.gov.in/Nregs/FrontServlet?requestType=WageSeekersRH&actionVal=JobCardHolder&param=JCHI&type=-1&Ajaxid=go',\n",
    "        'Accept-Language': 'en-US,en;q=0.9',\n",
    "    }\n",
    "\n",
    "    params = (\n",
    "        ('requestType', 'WageSeekersRH'),\n",
    "        ('actionVal', 'JobCardHolder'),\n",
    "        ('hhid', jobcard),\n",
    "        ('Ajaxid', 'go'),\n",
    "        ('type', '-1'),\n",
    "        ('param', 'JCHI'),\n",
    "    )\n",
    "\n",
    "    response = requests.get('http://www.nrega.ap.gov.in/Nregs/FrontServlet', headers=headers, params=params, cookies=cookies, verify=False)\n",
    "    \n",
    "    cols_list = ['sno','worker_code','name','age','gender','relationship','paying_agency','branch','shg_id','disabled','mphssid']\n",
    "    \n",
    "    df = pd.read_html(response.content)[-1]\n",
    "    \n",
    "    df.columns = cols_list\n",
    "    \n",
    "    return df"
   ]
  },
  {
   "cell_type": "code",
   "execution_count": null,
   "metadata": {
    "scrolled": true
   },
   "outputs": [],
   "source": [
    "dfs = []\n",
    "try:\n",
    "\n",
    "    for rnum,i in enumerate(mandal_jc_register['Jobcard ID']):\n",
    "        df = fetch_workers_register(i)\n",
    "        block_name = block_dict[i]\n",
    "        gp_name = gp_dict[i]\n",
    "        village_name = village_dict[i]\n",
    "        nic_jc = nic_jc_dict[i]\n",
    "        report_date = pd.datetime.now().strftime(\"%Y-%m-%d\")\n",
    "        df['jobcard_no'] = i\n",
    "        df['nic_jobcard_no'] = nic_jc\n",
    "        df['block_name'] = block_name\n",
    "        df['gp_name'] = gp_name\n",
    "        df['village_name'] = village_name\n",
    "        df['report_date'] = report_date\n",
    "        df['head_of_family'] = headOfTheFamily_dict[i]\n",
    "        dfs.append(df)\n",
    "\n",
    "        print(f'{rnum} Workers data fetched for {i} - {village_name}')\n",
    "\n",
    "except:\n",
    "    pass\n",
    "    "
   ]
  },
  {
   "cell_type": "code",
   "execution_count": null,
   "metadata": {},
   "outputs": [],
   "source": [
    "df = pd.concat(dfs)"
   ]
  },
  {
   "cell_type": "code",
   "execution_count": null,
   "metadata": {},
   "outputs": [],
   "source": [
    "df = df.reset_index(drop=True)"
   ]
  },
  {
   "cell_type": "code",
   "execution_count": null,
   "metadata": {},
   "outputs": [],
   "source": [
    "df = df.iloc[:,1:]"
   ]
  },
  {
   "cell_type": "code",
   "execution_count": null,
   "metadata": {},
   "outputs": [],
   "source": [
    "df.columns"
   ]
  },
  {
   "cell_type": "code",
   "execution_count": null,
   "metadata": {},
   "outputs": [],
   "source": [
    "cols_list = ['worker_code','name','age','gender','relationship','paying_agency','branch','shg_id','disabled','mphssid']\n"
   ]
  },
  {
   "cell_type": "code",
   "execution_count": null,
   "metadata": {},
   "outputs": [],
   "source": [
    "cols_list.insert(0,'block_name')"
   ]
  },
  {
   "cell_type": "code",
   "execution_count": null,
   "metadata": {},
   "outputs": [],
   "source": [
    "cols_list.insert(1,'gp_name')"
   ]
  },
  {
   "cell_type": "code",
   "execution_count": null,
   "metadata": {},
   "outputs": [],
   "source": [
    "cols_list.insert(2,'village_name')"
   ]
  },
  {
   "cell_type": "code",
   "execution_count": null,
   "metadata": {},
   "outputs": [],
   "source": [
    "cols_list.insert(3,'jobcard_no')"
   ]
  },
  {
   "cell_type": "code",
   "execution_count": null,
   "metadata": {},
   "outputs": [],
   "source": [
    "cols_list.insert(4,'nic_jobcard_no')"
   ]
  },
  {
   "cell_type": "code",
   "execution_count": null,
   "metadata": {},
   "outputs": [],
   "source": [
    "cols_list.insert(5,'head_of_family')"
   ]
  },
  {
   "cell_type": "code",
   "execution_count": null,
   "metadata": {},
   "outputs": [],
   "source": [
    "df = df[cols_list]"
   ]
  },
  {
   "cell_type": "code",
   "execution_count": null,
   "metadata": {},
   "outputs": [],
   "source": [
    "df.jobcard_no = '~' + df.jobcard_no.astype(str)"
   ]
  },
  {
   "cell_type": "code",
   "execution_count": null,
   "metadata": {},
   "outputs": [],
   "source": [
    "df.to_csv('/home/ranu/repos/libtechIndiaCrawler/Data/workersRegisterAP/nature_dumbriguda.csv')"
   ]
  },
  {
   "cell_type": "code",
   "execution_count": null,
   "metadata": {},
   "outputs": [],
   "source": []
  }
 ],
 "metadata": {
  "kernelspec": {
   "display_name": "Python 3",
   "language": "python",
   "name": "python3"
  },
  "language_info": {
   "codemirror_mode": {
    "name": "ipython",
    "version": 3
   },
   "file_extension": ".py",
   "mimetype": "text/x-python",
   "name": "python",
   "nbconvert_exporter": "python",
   "pygments_lexer": "ipython3",
   "version": "3.8.5"
  }
 },
 "nbformat": 4,
 "nbformat_minor": 4
}
