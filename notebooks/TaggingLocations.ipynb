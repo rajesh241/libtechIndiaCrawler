{
 "cells": [
  {
   "cell_type": "code",
   "execution_count": null,
   "metadata": {},
   "outputs": [],
   "source": [
    "import requests\n",
    "import json\n",
    "import os\n",
    "import pandas as pd\n",
    "import random"
   ]
  },
  {
   "cell_type": "code",
   "execution_count": null,
   "metadata": {},
   "outputs": [],
   "source": [
    "baseURL=\"https://backend.libtech.in\"\n",
    "baseURL = \"http://backend.libtech.in:8080\"\n",
    "AUTHENDPOINT='%s/api/user/token/' % (baseURL)\n",
    "TESTURL=\"%s/api/test/\" % (baseURL)\n",
    "REPORTURL=\"%s/api/public/report/\" % (baseURL)\n",
    "TAGLOCATIONSURL = \"%s/api/public/taglocations/\" % (baseURL)\n",
    "TASKURL=\"%s/api/public/queue/\" % (baseURL)\n",
    "GETREPORTURL=\"%s/api/getReport/\" % (baseURL)\n",
    "LOCATIONURL=\"%s/api/public/location/\" % (baseURL)\n",
    "bundle_endpoint = \"%s/api/public/bundle/\" % (baseURL)\n"
   ]
  },
  {
   "cell_type": "code",
   "execution_count": null,
   "metadata": {},
   "outputs": [],
   "source": [
    "def get_headers(email, password):\n",
    "    data={\n",
    "      'email' : email,\n",
    "      'password' : password\n",
    "            }\n",
    "    r=requests.post(AUTHENDPOINT,data=data)\n",
    "    token=r.json()['access']\n",
    "    headers={\n",
    "      'content-type':'application/json',\n",
    "      \"Authorization\" : \"Bearer \" + token\n",
    "    }\n",
    "    return headers"
   ]
  },
  {
   "cell_type": "code",
   "execution_count": null,
   "metadata": {},
   "outputs": [],
   "source": [
    "email = os.getenv(\"LIBTECH_API_USERNAME\")\n",
    "password = os.getenv(\"LIBTECH_API_PASSWORD\")\n",
    "headers = get_headers(email, password)\n",
    "headers"
   ]
  },
  {
   "cell_type": "markdown",
   "metadata": {},
   "source": [
    "## Getting all Orissa Blocks"
   ]
  },
  {
   "cell_type": "code",
   "execution_count": null,
   "metadata": {},
   "outputs": [],
   "source": [
    "url = f\"{REPORTURL}?location_type=state&report_type=nrega_locations&location_code=24\"\n",
    "print(url)\n",
    "r = requests.get(url, headers=headers)\n",
    "res = r.json()\n",
    "results = res[\"results\"]\n",
    "report_url = results[0].get(\"report_url\")\n",
    "print(report_url)"
   ]
  },
  {
   "cell_type": "markdown",
   "metadata": {},
   "source": [
    "## Getting all the block codes"
   ]
  },
  {
   "cell_type": "code",
   "execution_count": null,
   "metadata": {},
   "outputs": [],
   "source": [
    "dataframe = pd.read_csv(report_url, dtype={'block_code': object})\n",
    "all_block_codes = dataframe.block_code.unique().tolist()\n",
    "print(len(all_block_codes))"
   ]
  },
  {
   "cell_type": "markdown",
   "metadata": {},
   "source": [
    "## Sampling the required Blocks"
   ]
  },
  {
   "cell_type": "code",
   "execution_count": null,
   "metadata": {},
   "outputs": [],
   "source": [
    "to_be_sampled = 74\n",
    "sampled_blocks = random.sample(all_block_codes, to_be_sampled)\n",
    "print(len(sampled_blocks))"
   ]
  },
  {
   "cell_type": "markdown",
   "metadata": {},
   "source": [
    "## Setting up data for tag post request\n",
    "### if recursive is set to True, it would also tag the child locations. In the above case it would also tag all the panchayats with this code"
   ]
  },
  {
   "cell_type": "code",
   "execution_count": null,
   "metadata": {},
   "outputs": [],
   "source": [
    "tag_name = \"test\"\n",
    "data = {\n",
    "    \"tag\" : tag_name,\n",
    "    \"locations\" : sampled_blocks,\n",
    "    \"recursive\" : False\n",
    "}"
   ]
  },
  {
   "cell_type": "code",
   "execution_count": null,
   "metadata": {},
   "outputs": [],
   "source": [
    "r = requests.post(TAGLOCATIONSURL, headers= headers, data=json.dumps(data))\n",
    "print(r.status_code)\n",
    "print(r.content)"
   ]
  },
  {
   "cell_type": "code",
   "execution_count": null,
   "metadata": {},
   "outputs": [],
   "source": []
  }
 ],
 "metadata": {
  "kernelspec": {
   "display_name": "Python 3",
   "language": "python",
   "name": "python3"
  },
  "language_info": {
   "codemirror_mode": {
    "name": "ipython",
    "version": 3
   },
   "file_extension": ".py",
   "mimetype": "text/x-python",
   "name": "python",
   "nbconvert_exporter": "python",
   "pygments_lexer": "ipython3",
   "version": "3.8.6"
  }
 },
 "nbformat": 4,
 "nbformat_minor": 4
}
