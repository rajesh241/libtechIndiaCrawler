{
 "cells": [
  {
   "cell_type": "markdown",
   "metadata": {},
   "source": [
    "### You would have to set up the Environment "
   ]
  },
  {
   "cell_type": "code",
   "execution_count": null,
   "metadata": {},
   "outputs": [],
   "source": [
    "import os"
   ]
  },
  {
   "cell_type": "markdown",
   "metadata": {},
   "source": [
    "## Copy the following in your Bashrc\n",
    "\n",
    "### PYTHONPATH=\"${PYTHONPATH}:/home/mango/repo/libtechIndiaCrawler/\"\n",
    "### LIBTECH_BACKEND_URL='https://backend.libtech.in'\n",
    "### LIBTECH_API_USERNAME=''\n",
    "### LIBTECH_API_PASSWORD=\"\"\n",
    "### NREGA_DATA_DIR=\"/home/mango/repo/libtechIndiaCrawler/libtech_lib/nrega/data\"\n",
    "### JSON_CONFIG_DIR=\"/home/mango/repo/libtechIndiaCrawler/libtech_lib/json_config\""
   ]
  },
  {
   "cell_type": "code",
   "execution_count": null,
   "metadata": {},
   "outputs": [],
   "source": [
    "from libtech_lib.generic.commons import logger_fetch\n",
    "from libtech_lib.generic.helpers import download_report\n",
    "log_level = 'DEBUG'\n",
    "logger = logger_fetch(log_level)"
   ]
  },
  {
   "cell_type": "code",
   "execution_count": null,
   "metadata": {},
   "outputs": [],
   "source": [
    "logger.info(\"how are you\")"
   ]
  },
  {
   "cell_type": "code",
   "execution_count": null,
   "metadata": {},
   "outputs": [],
   "source": [
    "location_code = '3401020014'\n",
    "location_type = 'panchayat'\n",
    "report_name = \"worker_register\""
   ]
  },
  {
   "cell_type": "code",
   "execution_count": null,
   "metadata": {},
   "outputs": [],
   "source": [
    "#download_report(logger, location_code, location_type, report_name, force_download=True)"
   ]
  },
  {
   "cell_type": "code",
   "execution_count": null,
   "metadata": {},
   "outputs": [],
   "source": [
    "location_code = '0203011004'\n",
    "location_type = 'panchayat'\n",
    "report_name = 'ap_suspended_payments_r14_5'"
   ]
  },
  {
   "cell_type": "code",
   "execution_count": null,
   "metadata": {
    "scrolled": true
   },
   "outputs": [],
   "source": [
    "download_report(logger, location_code, location_type, report_name, is_nic=False, force_download=True)"
   ]
  },
  {
   "cell_type": "code",
   "execution_count": null,
   "metadata": {},
   "outputs": [],
   "source": []
  }
 ],
 "metadata": {
  "kernelspec": {
   "display_name": "Python 3",
   "language": "python",
   "name": "python3"
  },
  "language_info": {
   "codemirror_mode": {
    "name": "ipython",
    "version": 3
   },
   "file_extension": ".py",
   "mimetype": "text/x-python",
   "name": "python",
   "nbconvert_exporter": "python",
   "pygments_lexer": "ipython3",
   "version": "3.7.7"
  }
 },
 "nbformat": 4,
 "nbformat_minor": 4
}
