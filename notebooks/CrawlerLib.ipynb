{
 "cells": [
  {
   "cell_type": "markdown",
   "metadata": {},
   "source": [
    "### You would have to set up the Environment "
   ]
  },
  {
   "cell_type": "code",
   "execution_count": null,
   "metadata": {},
   "outputs": [],
   "source": [
    "import os"
   ]
  },
  {
   "cell_type": "markdown",
   "metadata": {},
   "source": [
    "## Copy the following in your Bashrc\n",
    "\n",
    "### PYTHONPATH=\"${PYTHONPATH}:/home/mango/repo/libtechIndiaCrawler/\"\n",
    "### LIBTECH_BACKEND_URL='https://backend.libtech.in'\n",
    "### LIBTECH_API_USERNAME=''\n",
    "### LIBTECH_API_PASSWORD=\"\"\n",
    "### NREGA_DATA_DIR=\"/home/mango/repo/libtechIndiaCrawler/libtech_lib/nrega/data\"\n",
    "### JSON_CONFIG_DIR=\"/home/mango/repo/libtechIndiaCrawler/libtech_lib/json_config\""
   ]
  },
  {
   "cell_type": "code",
   "execution_count": 3,
   "metadata": {},
   "outputs": [],
   "source": [
    "from libtech_lib.generic.commons import logger_fetch\n",
    "from libtech_lib.generic.helpers import download_report\n",
    "log_level = 'DEBUG'\n",
    "logger = logger_fetch(log_level)"
   ]
  },
  {
   "cell_type": "code",
   "execution_count": 4,
   "metadata": {},
   "outputs": [
    {
     "name": "stderr",
     "output_type": "stream",
     "text": [
      "2020-07-18 16:54:26,994:[libtech_lib.generic.commons|<ipython-input-4-a3cbbaf3c0fa>|<module>|1|INFO]: how are you\n"
     ]
    }
   ],
   "source": [
    "logger.info(\"how are you\")"
   ]
  },
  {
   "cell_type": "code",
   "execution_count": null,
   "metadata": {},
   "outputs": [],
   "source": [
    "location_code = '3401020014'\n",
    "location_type = 'panchayat'\n",
    "report_name = \"worker_register\""
   ]
  },
  {
   "cell_type": "code",
   "execution_count": null,
   "metadata": {},
   "outputs": [],
   "source": [
    "#download_report(logger, location_code, location_type, report_name, force_download=True)"
   ]
  },
  {
   "cell_type": "code",
   "execution_count": null,
   "metadata": {},
   "outputs": [],
   "source": [
    "location_code = '0203011004'\n",
    "location_type = 'panchayat'\n",
    "report_name = 'ap_suspended_payments_r14_5'"
   ]
  },
  {
   "cell_type": "code",
   "execution_count": null,
   "metadata": {
    "scrolled": true
   },
   "outputs": [],
   "source": [
    "download_report(logger, location_code, location_type, report_name, is_nic=False, force_download=True)"
   ]
  },
  {
   "cell_type": "code",
   "execution_count": 5,
   "metadata": {},
   "outputs": [],
   "source": [
    "location_code = '0203'\n",
    "location_type = 'district'\n",
    "report_name = 'get_child_locations'"
   ]
  },
  {
   "cell_type": "code",
   "execution_count": 6,
   "metadata": {},
   "outputs": [],
   "source": [
    "result = download_report(logger, location_code, location_type, report_name, is_nic=True, force_download=True)"
   ]
  },
  {
   "cell_type": "code",
   "execution_count": 7,
   "metadata": {},
   "outputs": [
    {
     "data": {
      "text/plain": [
       "['0203033',\n",
       " '0203025',\n",
       " '0203006',\n",
       " '0203005',\n",
       " '0203043',\n",
       " '0203027',\n",
       " '0203020',\n",
       " '0203008',\n",
       " '0203012',\n",
       " '0203021',\n",
       " '0203007',\n",
       " '0203004',\n",
       " '0203011',\n",
       " '0203015',\n",
       " '0203013',\n",
       " '0203003',\n",
       " '0203022',\n",
       " '0203035',\n",
       " '0203037',\n",
       " '0203014',\n",
       " '0203009',\n",
       " '0203036',\n",
       " '0203034',\n",
       " '0203001',\n",
       " '0203039',\n",
       " '0203017',\n",
       " '0203016',\n",
       " '0203010',\n",
       " '0203026',\n",
       " '0203032',\n",
       " '0203038',\n",
       " '0203002',\n",
       " '0203024',\n",
       " '0203042',\n",
       " '0203019',\n",
       " '0203018',\n",
       " '0203040',\n",
       " '0203023',\n",
       " '0203041']"
      ]
     },
     "execution_count": 7,
     "metadata": {},
     "output_type": "execute_result"
    }
   ],
   "source": [
    "result\n"
   ]
  },
  {
   "cell_type": "code",
   "execution_count": null,
   "metadata": {},
   "outputs": [],
   "source": []
  }
 ],
 "metadata": {
  "kernelspec": {
   "display_name": "Python 3",
   "language": "python",
   "name": "python3"
  },
  "language_info": {
   "codemirror_mode": {
    "name": "ipython",
    "version": 3
   },
   "file_extension": ".py",
   "mimetype": "text/x-python",
   "name": "python",
   "nbconvert_exporter": "python",
   "pygments_lexer": "ipython3",
   "version": "3.7.7"
  }
 },
 "nbformat": 4,
 "nbformat_minor": 4
}
